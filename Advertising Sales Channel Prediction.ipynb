{
 "cells": [
  {
   "cell_type": "markdown",
   "id": "a469a306",
   "metadata": {},
   "source": [
    "Practice Project - 6"
   ]
  },
  {
   "cell_type": "markdown",
   "id": "aca82b66",
   "metadata": {},
   "source": [
    "## Advertising Sales Channel Prediction"
   ]
  },
  {
   "cell_type": "markdown",
   "id": "e290d13e",
   "metadata": {},
   "source": [
    "When a company enters a market, the distribution strategy and channel it uses are keys to its success in the market, as well as market know-how and customer knowledge and understanding. Because an effective distribution strategy under efficient supply-chain management opens doors for attaining competitive advantage and strong brand equity in the market, it is a component of the marketing mix that cannot be ignored . \n",
    "\n",
    "The distribution strategy and the channel design have to be right the first time. The case study of Sales channel includes the detailed study of TV, radio and newspaper channel."
   ]
  },
  {
   "cell_type": "code",
   "execution_count": 1,
   "id": "4356cdde",
   "metadata": {},
   "outputs": [],
   "source": [
    "import pandas as pd"
   ]
  },
  {
   "cell_type": "code",
   "execution_count": 2,
   "id": "91074ac1",
   "metadata": {},
   "outputs": [],
   "source": [
    "df = pd.read_csv('Advertising.csv')"
   ]
  },
  {
   "cell_type": "code",
   "execution_count": 3,
   "id": "894c488d",
   "metadata": {},
   "outputs": [
    {
     "data": {
      "text/html": [
       "<div>\n",
       "<style scoped>\n",
       "    .dataframe tbody tr th:only-of-type {\n",
       "        vertical-align: middle;\n",
       "    }\n",
       "\n",
       "    .dataframe tbody tr th {\n",
       "        vertical-align: top;\n",
       "    }\n",
       "\n",
       "    .dataframe thead th {\n",
       "        text-align: right;\n",
       "    }\n",
       "</style>\n",
       "<table border=\"1\" class=\"dataframe\">\n",
       "  <thead>\n",
       "    <tr style=\"text-align: right;\">\n",
       "      <th></th>\n",
       "      <th>Unnamed: 0</th>\n",
       "      <th>TV</th>\n",
       "      <th>radio</th>\n",
       "      <th>newspaper</th>\n",
       "      <th>sales</th>\n",
       "    </tr>\n",
       "  </thead>\n",
       "  <tbody>\n",
       "    <tr>\n",
       "      <th>0</th>\n",
       "      <td>1</td>\n",
       "      <td>230.1</td>\n",
       "      <td>37.8</td>\n",
       "      <td>69.2</td>\n",
       "      <td>22.1</td>\n",
       "    </tr>\n",
       "    <tr>\n",
       "      <th>1</th>\n",
       "      <td>2</td>\n",
       "      <td>44.5</td>\n",
       "      <td>39.3</td>\n",
       "      <td>45.1</td>\n",
       "      <td>10.4</td>\n",
       "    </tr>\n",
       "    <tr>\n",
       "      <th>2</th>\n",
       "      <td>3</td>\n",
       "      <td>17.2</td>\n",
       "      <td>45.9</td>\n",
       "      <td>69.3</td>\n",
       "      <td>9.3</td>\n",
       "    </tr>\n",
       "    <tr>\n",
       "      <th>3</th>\n",
       "      <td>4</td>\n",
       "      <td>151.5</td>\n",
       "      <td>41.3</td>\n",
       "      <td>58.5</td>\n",
       "      <td>18.5</td>\n",
       "    </tr>\n",
       "    <tr>\n",
       "      <th>4</th>\n",
       "      <td>5</td>\n",
       "      <td>180.8</td>\n",
       "      <td>10.8</td>\n",
       "      <td>58.4</td>\n",
       "      <td>12.9</td>\n",
       "    </tr>\n",
       "    <tr>\n",
       "      <th>...</th>\n",
       "      <td>...</td>\n",
       "      <td>...</td>\n",
       "      <td>...</td>\n",
       "      <td>...</td>\n",
       "      <td>...</td>\n",
       "    </tr>\n",
       "    <tr>\n",
       "      <th>195</th>\n",
       "      <td>196</td>\n",
       "      <td>38.2</td>\n",
       "      <td>3.7</td>\n",
       "      <td>13.8</td>\n",
       "      <td>7.6</td>\n",
       "    </tr>\n",
       "    <tr>\n",
       "      <th>196</th>\n",
       "      <td>197</td>\n",
       "      <td>94.2</td>\n",
       "      <td>4.9</td>\n",
       "      <td>8.1</td>\n",
       "      <td>9.7</td>\n",
       "    </tr>\n",
       "    <tr>\n",
       "      <th>197</th>\n",
       "      <td>198</td>\n",
       "      <td>177.0</td>\n",
       "      <td>9.3</td>\n",
       "      <td>6.4</td>\n",
       "      <td>12.8</td>\n",
       "    </tr>\n",
       "    <tr>\n",
       "      <th>198</th>\n",
       "      <td>199</td>\n",
       "      <td>283.6</td>\n",
       "      <td>42.0</td>\n",
       "      <td>66.2</td>\n",
       "      <td>25.5</td>\n",
       "    </tr>\n",
       "    <tr>\n",
       "      <th>199</th>\n",
       "      <td>200</td>\n",
       "      <td>232.1</td>\n",
       "      <td>8.6</td>\n",
       "      <td>8.7</td>\n",
       "      <td>13.4</td>\n",
       "    </tr>\n",
       "  </tbody>\n",
       "</table>\n",
       "<p>200 rows × 5 columns</p>\n",
       "</div>"
      ],
      "text/plain": [
       "     Unnamed: 0     TV  radio  newspaper  sales\n",
       "0             1  230.1   37.8       69.2   22.1\n",
       "1             2   44.5   39.3       45.1   10.4\n",
       "2             3   17.2   45.9       69.3    9.3\n",
       "3             4  151.5   41.3       58.5   18.5\n",
       "4             5  180.8   10.8       58.4   12.9\n",
       "..          ...    ...    ...        ...    ...\n",
       "195         196   38.2    3.7       13.8    7.6\n",
       "196         197   94.2    4.9        8.1    9.7\n",
       "197         198  177.0    9.3        6.4   12.8\n",
       "198         199  283.6   42.0       66.2   25.5\n",
       "199         200  232.1    8.6        8.7   13.4\n",
       "\n",
       "[200 rows x 5 columns]"
      ]
     },
     "execution_count": 3,
     "metadata": {},
     "output_type": "execute_result"
    }
   ],
   "source": [
    "df"
   ]
  },
  {
   "cell_type": "code",
   "execution_count": 4,
   "id": "5301d5d1",
   "metadata": {},
   "outputs": [
    {
     "data": {
      "text/plain": [
       "Index(['Unnamed: 0', 'TV', 'radio', 'newspaper', 'sales'], dtype='object')"
      ]
     },
     "execution_count": 4,
     "metadata": {},
     "output_type": "execute_result"
    }
   ],
   "source": [
    "df.columns"
   ]
  },
  {
   "cell_type": "code",
   "execution_count": 5,
   "id": "87055a61",
   "metadata": {},
   "outputs": [
    {
     "data": {
      "text/plain": [
       "Unnamed: 0    0\n",
       "TV            0\n",
       "radio         0\n",
       "newspaper     0\n",
       "sales         0\n",
       "dtype: int64"
      ]
     },
     "execution_count": 5,
     "metadata": {},
     "output_type": "execute_result"
    }
   ],
   "source": [
    "df.isnull().sum()"
   ]
  },
  {
   "cell_type": "code",
   "execution_count": 6,
   "id": "962dd5a5",
   "metadata": {},
   "outputs": [],
   "source": [
    "import warnings\n",
    "warnings.filterwarnings(\"ignore\")"
   ]
  },
  {
   "cell_type": "markdown",
   "id": "4c34e3cd",
   "metadata": {},
   "source": [
    "### EDA"
   ]
  },
  {
   "cell_type": "markdown",
   "id": "844a562b",
   "metadata": {},
   "source": [
    "### Scatterplot:"
   ]
  },
  {
   "cell_type": "code",
   "execution_count": 7,
   "id": "05ed0840",
   "metadata": {},
   "outputs": [
    {
     "data": {
      "text/plain": [
       "<AxesSubplot:xlabel='TV', ylabel='sales'>"
      ]
     },
     "execution_count": 7,
     "metadata": {},
     "output_type": "execute_result"
    },
    {
     "data": {
      "image/png": "[encoded data removed]",
      "text/plain": [
       "<Figure size 432x288 with 1 Axes>"
      ]
     },
     "metadata": {
      "needs_background": "light"
     },
     "output_type": "display_data"
    }
   ],
   "source": [
    "import seaborn as sns\n",
    "sns.scatterplot(x=\"TV\",y=\"sales\",data=df)"
   ]
  },
  {
   "cell_type": "code",
   "execution_count": 8,
   "id": "ed2732b9",
   "metadata": {},
   "outputs": [
    {
     "data": {
      "text/plain": [
       "<AxesSubplot:xlabel='radio', ylabel='sales'>"
      ]
     },
     "execution_count": 8,
     "metadata": {},
     "output_type": "execute_result"
    },
    {
     "data": {
      "image/png": "[encoded data removed]",
      "text/plain": [
       "<Figure size 432x288 with 1 Axes>"
      ]
     },
     "metadata": {
      "needs_background": "light"
     },
     "output_type": "display_data"
    }
   ],
   "source": [
    "import seaborn as sns\n",
    "sns.scatterplot(x=\"radio\",y=\"sales\",data=df)"
   ]
  },
  {
   "cell_type": "code",
   "execution_count": 9,
   "id": "ccfc9774",
   "metadata": {},
   "outputs": [
    {
     "data": {
      "text/plain": [
       "<AxesSubplot:xlabel='newspaper', ylabel='sales'>"
      ]
     },
     "execution_count": 9,
     "metadata": {},
     "output_type": "execute_result"
    },
    {
     "data": {
      "image/png": "[encoded data removed]",
      "text/plain": [
       "<Figure size 432x288 with 1 Axes>"
      ]
     },
     "metadata": {
      "needs_background": "light"
     },
     "output_type": "display_data"
    }
   ],
   "source": [
    "import seaborn as sns\n",
    "sns.scatterplot(x=\"newspaper\",y=\"sales\",data=df)"
   ]
  },
  {
   "cell_type": "markdown",
   "id": "558a51fb",
   "metadata": {},
   "source": [
    "### Correlation:"
   ]
  },
  {
   "cell_type": "code",
   "execution_count": 10,
   "id": "e89a144b",
   "metadata": {},
   "outputs": [
    {
     "data": {
      "text/html": [
       "<div>\n",
       "<style scoped>\n",
       "    .dataframe tbody tr th:only-of-type {\n",
       "        vertical-align: middle;\n",
       "    }\n",
       "\n",
       "    .dataframe tbody tr th {\n",
       "        vertical-align: top;\n",
       "    }\n",
       "\n",
       "    .dataframe thead th {\n",
       "        text-align: right;\n",
       "    }\n",
       "</style>\n",
       "<table border=\"1\" class=\"dataframe\">\n",
       "  <thead>\n",
       "    <tr style=\"text-align: right;\">\n",
       "      <th></th>\n",
       "      <th>Unnamed: 0</th>\n",
       "      <th>TV</th>\n",
       "      <th>radio</th>\n",
       "      <th>newspaper</th>\n",
       "      <th>sales</th>\n",
       "    </tr>\n",
       "  </thead>\n",
       "  <tbody>\n",
       "    <tr>\n",
       "      <th>Unnamed: 0</th>\n",
       "      <td>1.000000</td>\n",
       "      <td>0.017715</td>\n",
       "      <td>-0.110680</td>\n",
       "      <td>-0.154944</td>\n",
       "      <td>-0.051616</td>\n",
       "    </tr>\n",
       "    <tr>\n",
       "      <th>TV</th>\n",
       "      <td>0.017715</td>\n",
       "      <td>1.000000</td>\n",
       "      <td>0.054809</td>\n",
       "      <td>0.056648</td>\n",
       "      <td>0.782224</td>\n",
       "    </tr>\n",
       "    <tr>\n",
       "      <th>radio</th>\n",
       "      <td>-0.110680</td>\n",
       "      <td>0.054809</td>\n",
       "      <td>1.000000</td>\n",
       "      <td>0.354104</td>\n",
       "      <td>0.576223</td>\n",
       "    </tr>\n",
       "    <tr>\n",
       "      <th>newspaper</th>\n",
       "      <td>-0.154944</td>\n",
       "      <td>0.056648</td>\n",
       "      <td>0.354104</td>\n",
       "      <td>1.000000</td>\n",
       "      <td>0.228299</td>\n",
       "    </tr>\n",
       "    <tr>\n",
       "      <th>sales</th>\n",
       "      <td>-0.051616</td>\n",
       "      <td>0.782224</td>\n",
       "      <td>0.576223</td>\n",
       "      <td>0.228299</td>\n",
       "      <td>1.000000</td>\n",
       "    </tr>\n",
       "  </tbody>\n",
       "</table>\n",
       "</div>"
      ],
      "text/plain": [
       "            Unnamed: 0        TV     radio  newspaper     sales\n",
       "Unnamed: 0    1.000000  0.017715 -0.110680  -0.154944 -0.051616\n",
       "TV            0.017715  1.000000  0.054809   0.056648  0.782224\n",
       "radio        -0.110680  0.054809  1.000000   0.354104  0.576223\n",
       "newspaper    -0.154944  0.056648  0.354104   1.000000  0.228299\n",
       "sales        -0.051616  0.782224  0.576223   0.228299  1.000000"
      ]
     },
     "execution_count": 10,
     "metadata": {},
     "output_type": "execute_result"
    }
   ],
   "source": [
    "df.corr()"
   ]
  },
  {
   "cell_type": "code",
   "execution_count": 11,
   "id": "79fd3fd7",
   "metadata": {},
   "outputs": [
    {
     "data": {
      "text/plain": [
       "<AxesSubplot:>"
      ]
     },
     "execution_count": 11,
     "metadata": {},
     "output_type": "execute_result"
    },
    {
     "data": {
      "image/png": "[encoded data removed]",
      "text/plain": [
       "<Figure size 1080x504 with 2 Axes>"
      ]
     },
     "metadata": {
      "needs_background": "light"
     },
     "output_type": "display_data"
    }
   ],
   "source": [
    "import matplotlib.pyplot as plt\n",
    "plt.figure(figsize=(15,7))\n",
    "sns.heatmap(df.corr(), annot=True, linewidths=0.5,linecolor=\"black\", fmt= '.2f')"
   ]
  },
  {
   "cell_type": "markdown",
   "id": "68f75dfd",
   "metadata": {},
   "source": [
    "Outcome of Correlation:\n",
    "    \n",
    "    TV has 78 percent with the target column which is considered as a strong bond. Radio has 58 percent with the target column which is considered as a very good bond. Newspaper has 23 percent with the target column which is considered as a weak bond. \n",
    "    \n",
    "Max Correlation: TV\n",
    "\n",
    "Min Correlation: Newspaper"
   ]
  },
  {
   "cell_type": "markdown",
   "id": "87b5c8be",
   "metadata": {},
   "source": [
    "### Describing Datasets:"
   ]
  },
  {
   "cell_type": "code",
   "execution_count": 12,
   "id": "de2e7d5f",
   "metadata": {},
   "outputs": [
    {
     "data": {
      "text/html": [
       "<div>\n",
       "<style scoped>\n",
       "    .dataframe tbody tr th:only-of-type {\n",
       "        vertical-align: middle;\n",
       "    }\n",
       "\n",
       "    .dataframe tbody tr th {\n",
       "        vertical-align: top;\n",
       "    }\n",
       "\n",
       "    .dataframe thead th {\n",
       "        text-align: right;\n",
       "    }\n",
       "</style>\n",
       "<table border=\"1\" class=\"dataframe\">\n",
       "  <thead>\n",
       "    <tr style=\"text-align: right;\">\n",
       "      <th></th>\n",
       "      <th>Unnamed: 0</th>\n",
       "      <th>TV</th>\n",
       "      <th>radio</th>\n",
       "      <th>newspaper</th>\n",
       "      <th>sales</th>\n",
       "    </tr>\n",
       "  </thead>\n",
       "  <tbody>\n",
       "    <tr>\n",
       "      <th>count</th>\n",
       "      <td>200.000000</td>\n",
       "      <td>200.000000</td>\n",
       "      <td>200.000000</td>\n",
       "      <td>200.000000</td>\n",
       "      <td>200.000000</td>\n",
       "    </tr>\n",
       "    <tr>\n",
       "      <th>mean</th>\n",
       "      <td>100.500000</td>\n",
       "      <td>147.042500</td>\n",
       "      <td>23.264000</td>\n",
       "      <td>30.554000</td>\n",
       "      <td>14.022500</td>\n",
       "    </tr>\n",
       "    <tr>\n",
       "      <th>std</th>\n",
       "      <td>57.879185</td>\n",
       "      <td>85.854236</td>\n",
       "      <td>14.846809</td>\n",
       "      <td>21.778621</td>\n",
       "      <td>5.217457</td>\n",
       "    </tr>\n",
       "    <tr>\n",
       "      <th>min</th>\n",
       "      <td>1.000000</td>\n",
       "      <td>0.700000</td>\n",
       "      <td>0.000000</td>\n",
       "      <td>0.300000</td>\n",
       "      <td>1.600000</td>\n",
       "    </tr>\n",
       "    <tr>\n",
       "      <th>25%</th>\n",
       "      <td>50.750000</td>\n",
       "      <td>74.375000</td>\n",
       "      <td>9.975000</td>\n",
       "      <td>12.750000</td>\n",
       "      <td>10.375000</td>\n",
       "    </tr>\n",
       "    <tr>\n",
       "      <th>50%</th>\n",
       "      <td>100.500000</td>\n",
       "      <td>149.750000</td>\n",
       "      <td>22.900000</td>\n",
       "      <td>25.750000</td>\n",
       "      <td>12.900000</td>\n",
       "    </tr>\n",
       "    <tr>\n",
       "      <th>75%</th>\n",
       "      <td>150.250000</td>\n",
       "      <td>218.825000</td>\n",
       "      <td>36.525000</td>\n",
       "      <td>45.100000</td>\n",
       "      <td>17.400000</td>\n",
       "    </tr>\n",
       "    <tr>\n",
       "      <th>max</th>\n",
       "      <td>200.000000</td>\n",
       "      <td>296.400000</td>\n",
       "      <td>49.600000</td>\n",
       "      <td>114.000000</td>\n",
       "      <td>27.000000</td>\n",
       "    </tr>\n",
       "  </tbody>\n",
       "</table>\n",
       "</div>"
      ],
      "text/plain": [
       "       Unnamed: 0          TV       radio   newspaper       sales\n",
       "count  200.000000  200.000000  200.000000  200.000000  200.000000\n",
       "mean   100.500000  147.042500   23.264000   30.554000   14.022500\n",
       "std     57.879185   85.854236   14.846809   21.778621    5.217457\n",
       "min      1.000000    0.700000    0.000000    0.300000    1.600000\n",
       "25%     50.750000   74.375000    9.975000   12.750000   10.375000\n",
       "50%    100.500000  149.750000   22.900000   25.750000   12.900000\n",
       "75%    150.250000  218.825000   36.525000   45.100000   17.400000\n",
       "max    200.000000  296.400000   49.600000  114.000000   27.000000"
      ]
     },
     "execution_count": 12,
     "metadata": {},
     "output_type": "execute_result"
    }
   ],
   "source": [
    "df.describe()"
   ]
  },
  {
   "cell_type": "code",
   "execution_count": 13,
   "id": "5499eb42",
   "metadata": {},
   "outputs": [
    {
     "data": {
      "text/plain": [
       "<function matplotlib.pyplot.show(close=None, block=None)>"
      ]
     },
     "execution_count": 13,
     "metadata": {},
     "output_type": "execute_result"
    },
    {
     "data": {
      "image/png": "[encoded data removed]",
      "text/plain": [
       "<Figure size 1080x864 with 2 Axes>"
      ]
     },
     "metadata": {
      "needs_background": "light"
     },
     "output_type": "display_data"
    }
   ],
   "source": [
    "plt.figure(figsize=(15,12))\n",
    "sns.heatmap(round(df.describe()[1:].transpose(),2),linewidth=2,annot=True,fmt=\"f\")\n",
    "plt.xticks(fontsize=16)\n",
    "plt.yticks(fontsize=10)\n",
    "plt.title(\"variables summary\")\n",
    "plt.show"
   ]
  },
  {
   "cell_type": "markdown",
   "id": "6ab78e4b",
   "metadata": {},
   "source": [
    "Outcome of the dataset:\n",
    "    \n",
    "    From the above plotting we are determining mean, standard deviation, minimum and maximum value of each column. It helps us further in data cleaning.\n",
    "    \n",
    "Total Number of rows in datasets:\n",
    "\n",
    "1. 200 rows\n",
    "2. 5 columns\n",
    "\n",
    "TV-\n",
    "\n",
    "1. Mean= 147.042500\n",
    "2. Std= 85.854236\n",
    "3. Min= 0.700000\n",
    "4. Max= 296.400000\n",
    "\n",
    "Radio-\n",
    "\n",
    "1. Mean= 23.264000\n",
    "2. Std= 14.846809\n",
    "3. Min= 0\n",
    "4. Max= 49.600000\n",
    "\n",
    "Newspaper-\n",
    "\n",
    "1. Mean= 30.554000\n",
    "2. Std= 21.778621\n",
    "3. Min= 0.300000\n",
    "4. Max= 114.000000\n",
    "\n",
    "Sales-\n",
    "\n",
    "1. Mean= 14.022500\n",
    "2. Std= 5.217457\n",
    "3. Min= 1.600000\n",
    "4. Max= 27.000000\n",
    "\n",
    "Unnamed-\n",
    "\n",
    "1. Mean= 100.500000\n",
    "2. Std= 57.879185\n",
    "3. Min= 1\n",
    "4. Max= 200"
   ]
  },
  {
   "cell_type": "code",
   "execution_count": 14,
   "id": "40286824",
   "metadata": {},
   "outputs": [
    {
     "name": "stdout",
     "output_type": "stream",
     "text": [
      "<class 'pandas.core.frame.DataFrame'>\n",
      "RangeIndex: 200 entries, 0 to 199\n",
      "Data columns (total 5 columns):\n",
      " #   Column      Non-Null Count  Dtype  \n",
      "---  ------      --------------  -----  \n",
      " 0   Unnamed: 0  200 non-null    int64  \n",
      " 1   TV          200 non-null    float64\n",
      " 2   radio       200 non-null    float64\n",
      " 3   newspaper   200 non-null    float64\n",
      " 4   sales       200 non-null    float64\n",
      "dtypes: float64(4), int64(1)\n",
      "memory usage: 7.9 KB\n"
     ]
    }
   ],
   "source": [
    "df.info()"
   ]
  },
  {
   "cell_type": "markdown",
   "id": "94f8ff7c",
   "metadata": {},
   "source": [
    "### Outliers Checking:"
   ]
  },
  {
   "cell_type": "code",
   "execution_count": 15,
   "id": "94915330",
   "metadata": {},
   "outputs": [
    {
     "data": {
      "image/png": "[encoded data removed]",
      "text/plain": [
       "<Figure size 2160x6480 with 5 Axes>"
      ]
     },
     "metadata": {
      "needs_background": "light"
     },
     "output_type": "display_data"
    }
   ],
   "source": [
    "collist=df.columns.values\n",
    "ncol=30\n",
    "nrows=14\n",
    "plt.figure(figsize=(ncol,3*ncol))\n",
    "for i in range (0,len(collist)):\n",
    "    plt.subplot(nrows,ncol,i+1)\n",
    "    sns.boxplot(y=df[collist[i]],color='green',orient='v')\n",
    "    plt.tight_layout()"
   ]
  },
  {
   "cell_type": "markdown",
   "id": "9cccce2a",
   "metadata": {},
   "source": [
    "From the above outcome we can see that columns['Newspaper'] has less outliers and columns['Unnamed','TV','Radio','Sales'] has no outliers."
   ]
  },
  {
   "cell_type": "markdown",
   "id": "7678fbdc",
   "metadata": {},
   "source": [
    "### Skewness:"
   ]
  },
  {
   "cell_type": "code",
   "execution_count": 16,
   "id": "186c217f",
   "metadata": {},
   "outputs": [
    {
     "data": {
      "text/plain": [
       "Unnamed: 0    0.000000\n",
       "TV           -0.069853\n",
       "radio         0.094175\n",
       "newspaper     0.894720\n",
       "sales         0.407571\n",
       "dtype: float64"
      ]
     },
     "execution_count": 16,
     "metadata": {},
     "output_type": "execute_result"
    }
   ],
   "source": [
    "df.skew()"
   ]
  },
  {
   "cell_type": "markdown",
   "id": "350a422c",
   "metadata": {},
   "source": [
    "Outcome of the Skewness:\n",
    "    \n",
    "    Skewness threshold is taken "
   ]
  },
  {
   "cell_type": "markdown",
   "id": "ccfd6ee2",
   "metadata": {},
   "source": [
    "### Normal Distribution Curve:"
   ]
  },
  {
   "cell_type": "code",
   "execution_count": 17,
   "id": "4ec20bf4",
   "metadata": {},
   "outputs": [
    {
     "data": {
      "text/plain": [
       "<AxesSubplot:xlabel='TV', ylabel='Density'>"
      ]
     },
     "execution_count": 17,
     "metadata": {},
     "output_type": "execute_result"
    },
    {
     "data": {
      "image/png": "[encoded data removed]",
      "text/plain": [
       "<Figure size 432x288 with 1 Axes>"
      ]
     },
     "metadata": {
      "needs_background": "light"
     },
     "output_type": "display_data"
    }
   ],
   "source": [
    "sns.distplot(df[\"TV\"])"
   ]
  },
  {
   "cell_type": "markdown",
   "id": "2dc8f250",
   "metadata": {},
   "source": [
    "The data of the column is not normalised.The building blocks is out of the normalised curve."
   ]
  },
  {
   "cell_type": "code",
   "execution_count": 18,
   "id": "0e33643d",
   "metadata": {},
   "outputs": [
    {
     "data": {
      "text/plain": [
       "<AxesSubplot:xlabel='radio', ylabel='Density'>"
      ]
     },
     "execution_count": 18,
     "metadata": {},
     "output_type": "execute_result"
    },
    {
     "data": {
      "image/png": "[encoded data removed]",
      "text/plain": [
       "<Figure size 432x288 with 1 Axes>"
      ]
     },
     "metadata": {
      "needs_background": "light"
     },
     "output_type": "display_data"
    }
   ],
   "source": [
    "sns.distplot(df[\"radio\"])"
   ]
  },
  {
   "cell_type": "markdown",
   "id": "9d72ffd9",
   "metadata": {},
   "source": [
    "The data of the column is not normalised.The building blocks is out of the normalised curve."
   ]
  },
  {
   "cell_type": "code",
   "execution_count": 19,
   "id": "0c8470f5",
   "metadata": {},
   "outputs": [
    {
     "data": {
      "text/plain": [
       "<AxesSubplot:xlabel='newspaper', ylabel='Density'>"
      ]
     },
     "execution_count": 19,
     "metadata": {},
     "output_type": "execute_result"
    },
    {
     "data": {
      "image/png": "[encoded data removed]",
      "text/plain": [
       "<Figure size 432x288 with 1 Axes>"
      ]
     },
     "metadata": {
      "needs_background": "light"
     },
     "output_type": "display_data"
    }
   ],
   "source": [
    "sns.distplot(df[\"newspaper\"])"
   ]
  },
  {
   "cell_type": "markdown",
   "id": "dd6afec8",
   "metadata": {},
   "source": [
    "The data of the column is not normalised.The building blocks is out of the normalised curve."
   ]
  },
  {
   "cell_type": "code",
   "execution_count": 20,
   "id": "6d183046",
   "metadata": {},
   "outputs": [
    {
     "data": {
      "text/plain": [
       "<AxesSubplot:xlabel='sales', ylabel='Density'>"
      ]
     },
     "execution_count": 20,
     "metadata": {},
     "output_type": "execute_result"
    },
    {
     "data": {
      "image/png": "[encoded data removed]",
      "text/plain": [
       "<Figure size 432x288 with 1 Axes>"
      ]
     },
     "metadata": {
      "needs_background": "light"
     },
     "output_type": "display_data"
    }
   ],
   "source": [
    "sns.distplot(df[\"sales\"])"
   ]
  },
  {
   "cell_type": "markdown",
   "id": "9e1892fb",
   "metadata": {},
   "source": [
    "The data of the column is not normalised.The building blocks is out of the normalised curve."
   ]
  },
  {
   "cell_type": "code",
   "execution_count": 22,
   "id": "8d8205e3",
   "metadata": {},
   "outputs": [
    {
     "data": {
      "text/plain": [
       "<AxesSubplot:xlabel='Unnamed: 0', ylabel='Density'>"
      ]
     },
     "execution_count": 22,
     "metadata": {},
     "output_type": "execute_result"
    },
    {
     "data": {
      "image/png": "[encoded data removed]",
      "text/plain": [
       "<Figure size 432x288 with 1 Axes>"
      ]
     },
     "metadata": {
      "needs_background": "light"
     },
     "output_type": "display_data"
    }
   ],
   "source": [
    "sns.distplot(df[\"Unnamed: 0\"])"
   ]
  },
  {
   "cell_type": "markdown",
   "id": "4c34dfb8",
   "metadata": {},
   "source": [
    "The data of the column is not normalised.The building blocks is out of the normalised curve."
   ]
  },
  {
   "cell_type": "markdown",
   "id": "10518227",
   "metadata": {},
   "source": [
    "The Normal Distribution Curve shows that the data is skewed."
   ]
  },
  {
   "cell_type": "markdown",
   "id": "f1ce7bbe",
   "metadata": {},
   "source": [
    "### Data Cleaning:"
   ]
  },
  {
   "cell_type": "code",
   "execution_count": 23,
   "id": "7d0aa9c4",
   "metadata": {},
   "outputs": [
    {
     "data": {
      "text/html": [
       "<div>\n",
       "<style scoped>\n",
       "    .dataframe tbody tr th:only-of-type {\n",
       "        vertical-align: middle;\n",
       "    }\n",
       "\n",
       "    .dataframe tbody tr th {\n",
       "        vertical-align: top;\n",
       "    }\n",
       "\n",
       "    .dataframe thead th {\n",
       "        text-align: right;\n",
       "    }\n",
       "</style>\n",
       "<table border=\"1\" class=\"dataframe\">\n",
       "  <thead>\n",
       "    <tr style=\"text-align: right;\">\n",
       "      <th></th>\n",
       "      <th>Correlation with Target</th>\n",
       "      <th>Column Name</th>\n",
       "      <th>Normalised</th>\n",
       "      <th>Outliers</th>\n",
       "    </tr>\n",
       "  </thead>\n",
       "  <tbody>\n",
       "    <tr>\n",
       "      <th>0</th>\n",
       "      <td>(0.051616)</td>\n",
       "      <td>Unnamed: 0</td>\n",
       "      <td>No</td>\n",
       "      <td>No</td>\n",
       "    </tr>\n",
       "    <tr>\n",
       "      <th>1</th>\n",
       "      <td>0.228299</td>\n",
       "      <td>newspaper</td>\n",
       "      <td>No</td>\n",
       "      <td>Less</td>\n",
       "    </tr>\n",
       "  </tbody>\n",
       "</table>\n",
       "</div>"
      ],
      "text/plain": [
       "  Correlation with Target Column Name Normalised Outliers\n",
       "0              (0.051616)  Unnamed: 0         No       No\n",
       "1                0.228299   newspaper         No     Less"
      ]
     },
     "execution_count": 23,
     "metadata": {},
     "output_type": "execute_result"
    }
   ],
   "source": [
    "delete=pd.DataFrame([[\"(0.051616)\",\"Unnamed: 0\",\"No\",\"No\"],[\"0.228299\",\"newspaper\",\"No\",\"Less\"]],columns=[\"Correlation with Target\",\"Column Name\",\"Normalised\",\"Outliers\"])\n",
    "delete"
   ]
  },
  {
   "cell_type": "markdown",
   "id": "a0df6424",
   "metadata": {},
   "source": [
    "Here, we are settling threshold of correlation as +/-1.It is not standard.The dataset demands."
   ]
  },
  {
   "cell_type": "code",
   "execution_count": 24,
   "id": "ad2fce2e",
   "metadata": {},
   "outputs": [],
   "source": [
    "df=df.drop([\"Unnamed: 0\",\"newspaper\"],axis=1)"
   ]
  },
  {
   "cell_type": "code",
   "execution_count": 25,
   "id": "451ea45c",
   "metadata": {},
   "outputs": [
    {
     "data": {
      "text/html": [
       "<div>\n",
       "<style scoped>\n",
       "    .dataframe tbody tr th:only-of-type {\n",
       "        vertical-align: middle;\n",
       "    }\n",
       "\n",
       "    .dataframe tbody tr th {\n",
       "        vertical-align: top;\n",
       "    }\n",
       "\n",
       "    .dataframe thead th {\n",
       "        text-align: right;\n",
       "    }\n",
       "</style>\n",
       "<table border=\"1\" class=\"dataframe\">\n",
       "  <thead>\n",
       "    <tr style=\"text-align: right;\">\n",
       "      <th></th>\n",
       "      <th>TV</th>\n",
       "      <th>radio</th>\n",
       "      <th>sales</th>\n",
       "    </tr>\n",
       "  </thead>\n",
       "  <tbody>\n",
       "    <tr>\n",
       "      <th>0</th>\n",
       "      <td>230.1</td>\n",
       "      <td>37.8</td>\n",
       "      <td>22.1</td>\n",
       "    </tr>\n",
       "    <tr>\n",
       "      <th>1</th>\n",
       "      <td>44.5</td>\n",
       "      <td>39.3</td>\n",
       "      <td>10.4</td>\n",
       "    </tr>\n",
       "    <tr>\n",
       "      <th>2</th>\n",
       "      <td>17.2</td>\n",
       "      <td>45.9</td>\n",
       "      <td>9.3</td>\n",
       "    </tr>\n",
       "    <tr>\n",
       "      <th>3</th>\n",
       "      <td>151.5</td>\n",
       "      <td>41.3</td>\n",
       "      <td>18.5</td>\n",
       "    </tr>\n",
       "    <tr>\n",
       "      <th>4</th>\n",
       "      <td>180.8</td>\n",
       "      <td>10.8</td>\n",
       "      <td>12.9</td>\n",
       "    </tr>\n",
       "    <tr>\n",
       "      <th>...</th>\n",
       "      <td>...</td>\n",
       "      <td>...</td>\n",
       "      <td>...</td>\n",
       "    </tr>\n",
       "    <tr>\n",
       "      <th>195</th>\n",
       "      <td>38.2</td>\n",
       "      <td>3.7</td>\n",
       "      <td>7.6</td>\n",
       "    </tr>\n",
       "    <tr>\n",
       "      <th>196</th>\n",
       "      <td>94.2</td>\n",
       "      <td>4.9</td>\n",
       "      <td>9.7</td>\n",
       "    </tr>\n",
       "    <tr>\n",
       "      <th>197</th>\n",
       "      <td>177.0</td>\n",
       "      <td>9.3</td>\n",
       "      <td>12.8</td>\n",
       "    </tr>\n",
       "    <tr>\n",
       "      <th>198</th>\n",
       "      <td>283.6</td>\n",
       "      <td>42.0</td>\n",
       "      <td>25.5</td>\n",
       "    </tr>\n",
       "    <tr>\n",
       "      <th>199</th>\n",
       "      <td>232.1</td>\n",
       "      <td>8.6</td>\n",
       "      <td>13.4</td>\n",
       "    </tr>\n",
       "  </tbody>\n",
       "</table>\n",
       "<p>200 rows × 3 columns</p>\n",
       "</div>"
      ],
      "text/plain": [
       "        TV  radio  sales\n",
       "0    230.1   37.8   22.1\n",
       "1     44.5   39.3   10.4\n",
       "2     17.2   45.9    9.3\n",
       "3    151.5   41.3   18.5\n",
       "4    180.8   10.8   12.9\n",
       "..     ...    ...    ...\n",
       "195   38.2    3.7    7.6\n",
       "196   94.2    4.9    9.7\n",
       "197  177.0    9.3   12.8\n",
       "198  283.6   42.0   25.5\n",
       "199  232.1    8.6   13.4\n",
       "\n",
       "[200 rows x 3 columns]"
      ]
     },
     "execution_count": 25,
     "metadata": {},
     "output_type": "execute_result"
    }
   ],
   "source": [
    "df"
   ]
  },
  {
   "cell_type": "markdown",
   "id": "f4a67089",
   "metadata": {},
   "source": [
    "### Removing Outliers:"
   ]
  },
  {
   "cell_type": "markdown",
   "id": "91392126",
   "metadata": {},
   "source": [
    "Z-Score Technique:"
   ]
  },
  {
   "cell_type": "code",
   "execution_count": 26,
   "id": "f7f0ca22",
   "metadata": {},
   "outputs": [
    {
     "data": {
      "text/plain": [
       "(200, 3)"
      ]
     },
     "execution_count": 26,
     "metadata": {},
     "output_type": "execute_result"
    }
   ],
   "source": [
    "from scipy.stats import zscore\n",
    "import numpy as np\n",
    "z=np.abs(zscore(df))\n",
    "z.shape"
   ]
  },
  {
   "cell_type": "code",
   "execution_count": 27,
   "id": "ef9f8133",
   "metadata": {},
   "outputs": [
    {
     "name": "stdout",
     "output_type": "stream",
     "text": [
      "(array([], dtype=int64), array([], dtype=int64))\n"
     ]
    }
   ],
   "source": [
    "threshold=3\n",
    "print(np.where(z>3))"
   ]
  },
  {
   "cell_type": "code",
   "execution_count": 28,
   "id": "9a7dbd52",
   "metadata": {},
   "outputs": [
    {
     "name": "stdout",
     "output_type": "stream",
     "text": [
      "(200, 3)\n",
      "(200, 3)\n"
     ]
    }
   ],
   "source": [
    "df_new=df[(z<3).all(axis=1)]\n",
    "print(df.shape)\n",
    "print(df_new.shape)"
   ]
  },
  {
   "cell_type": "markdown",
   "id": "7ef2d307",
   "metadata": {},
   "source": [
    "Percentage Data Loss:"
   ]
  },
  {
   "cell_type": "code",
   "execution_count": 30,
   "id": "fb7b0e66",
   "metadata": {},
   "outputs": [
    {
     "name": "stdout",
     "output_type": "stream",
     "text": [
      "0.0\n"
     ]
    }
   ],
   "source": [
    "loss_percent=(200-200)/200*100\n",
    "print(loss_percent)"
   ]
  },
  {
   "cell_type": "markdown",
   "id": "d9ac9eaf",
   "metadata": {},
   "source": [
    "Checking whether how much outliers are still there.If the outliers there help in testing the model or not."
   ]
  },
  {
   "cell_type": "markdown",
   "id": "63e10f5e",
   "metadata": {},
   "source": [
    "### Model without outliers is df_new amd model with desired outliers is df_new1:"
   ]
  },
  {
   "cell_type": "markdown",
   "id": "33f371f4",
   "metadata": {},
   "source": [
    "Dividing data in features and vectors:"
   ]
  },
  {
   "cell_type": "code",
   "execution_count": 31,
   "id": "eefb52c2",
   "metadata": {},
   "outputs": [],
   "source": [
    "x=df_new.iloc[:,:-1]\n",
    "y=df_new.iloc[:,-1]"
   ]
  },
  {
   "cell_type": "markdown",
   "id": "2bb84369",
   "metadata": {},
   "source": [
    "### Transforming data to remove skewness:"
   ]
  },
  {
   "cell_type": "code",
   "execution_count": 32,
   "id": "84252222",
   "metadata": {},
   "outputs": [],
   "source": [
    "from sklearn.preprocessing import power_transform\n",
    "x=power_transform(x,method='yeo-johnson')"
   ]
  },
  {
   "cell_type": "code",
   "execution_count": 33,
   "id": "272fb834",
   "metadata": {},
   "outputs": [
    {
     "data": {
      "text/plain": [
       "array([[ 0.94867429,  0.96224689],\n",
       "       [-1.19131426,  1.0401788 ],\n",
       "       [-1.6477566 ,  1.37070964],\n",
       "       [ 0.14102023,  1.14238689],\n",
       "       [ 0.45271493, -0.74865064],\n",
       "       [-1.82382233,  1.51501853],\n",
       "       [-1.00249116,  0.69372704],\n",
       "       [-0.210275  , -0.10158544],\n",
       "       [-1.82609501, -1.63345378],\n",
       "       [ 0.64764492, -1.56676988],\n",
       "       [-0.88377378, -1.20298758],\n",
       "       [ 0.79708355,  0.18072579],\n",
       "       [-1.52641627,  0.81900563],\n",
       "       [-0.48036844, -1.02813642],\n",
       "       [ 0.69106577,  0.6992403 ],\n",
       "       [ 0.60295713,  1.45770359],\n",
       "       [-0.86079972,  0.89906999],\n",
       "       [ 1.4355201 ,  1.05563142],\n",
       "       [-0.84199328, -0.04209908],\n",
       "       [ 0.09508551,  0.17453165],\n",
       "       [ 0.8337607 ,  0.40367061],\n",
       "       [ 1.01958629, -1.27567304],\n",
       "       [-1.72701642, -0.35739289],\n",
       "       [ 0.93109798, -0.28631129],\n",
       "       [-0.93569772, -0.60431061],\n",
       "       [ 1.26290943, -1.4550585 ],\n",
       "       [ 0.04659013,  0.49664406],\n",
       "       [ 1.0456669 , -0.30040383],\n",
       "       [ 1.12918152,  0.3682981 ],\n",
       "       [-0.82328646, -0.35021379],\n",
       "       [ 1.54129731,  0.43876195],\n",
       "       [-0.29553337, -0.25134036],\n",
       "       [-0.48404243, -1.71918898],\n",
       "       [ 1.28829734, -0.07502706],\n",
       "       [-0.50245749, -1.7342107 ],\n",
       "       [ 1.52114819, -1.3853128 ],\n",
       "       [ 1.3004967 ,  1.2675887 ],\n",
       "       [-0.76905257,  1.53874417],\n",
       "       [-1.21245403,  0.34455612],\n",
       "       [ 0.92816503,  0.95701091],\n",
       "       [ 0.67493776,  0.07409584],\n",
       "       [ 0.41309098,  0.72671408],\n",
       "       [ 1.54769995,  0.40367061],\n",
       "       [ 0.71920943, -0.95499286],\n",
       "       [-1.50359538,  0.28462118],\n",
       "       [ 0.39319467,  0.08679116],\n",
       "       [-0.57689562, -0.82396106],\n",
       "       [ 1.04373768,  1.15250515],\n",
       "       [ 0.92033882, -0.36458821],\n",
       "       [-0.87294338, -0.67550361],\n",
       "       [ 0.64764492, -1.50354208],\n",
       "       [-0.44500506, -0.84958728],\n",
       "       [ 0.81395585,  1.16260524],\n",
       "       [ 0.47140703,  1.38529598],\n",
       "       [ 1.2610261 ,  0.46779569],\n",
       "       [ 0.63852563,  1.53874417],\n",
       "       [-1.85624738,  0.42709558],\n",
       "       [-0.02802214, -0.12834141],\n",
       "       [ 0.75824197,  1.54820925],\n",
       "       [ 0.75724354,  0.50813245],\n",
       "       [-1.05927427, -1.64727037],\n",
       "       [ 1.24783212,  1.21283741],\n",
       "       [ 1.03794746, -0.38627294],\n",
       "       [-0.41714955,  0.51386586],\n",
       "       [-0.08546826,  1.21783637],\n",
       "       [-0.84467375, -0.87549189],\n",
       "       [-1.39531449,  0.21769395],\n",
       "       [ 0.0066178 , -0.45966823],\n",
       "       [ 1.01958629,  0.39191142],\n",
       "       [ 0.81792069,  1.2725405 ],\n",
       "       [ 0.64055308,  0.5708121 ],\n",
       "       [-0.3321763 , -0.4745618 ],\n",
       "       [-1.47420382,  0.70474737],\n",
       "       [-0.10474749, -1.21318999],\n",
       "       [ 0.7841573 ,  0.21769395],\n",
       "       [-1.65352738,  1.26263268],\n",
       "       [-1.46224158, -1.70439494],\n",
       "       [-0.20680098,  0.45039797],\n",
       "       [-1.90271957,  0.53102334],\n",
       "       [-0.25915513, -1.01885558],\n",
       "       [-0.74679627,  0.34455612],\n",
       "       [ 1.04277291, -1.3853128 ],\n",
       "       [-0.76118235, -0.05523482],\n",
       "       [-0.85272745,  1.30216339],\n",
       "       [ 0.78515237,  1.22782124],\n",
       "       [ 0.58051341, -0.1824681 ],\n",
       "       [-0.74810183,  0.39191142],\n",
       "       [-0.32151022,  1.10682827],\n",
       "       [-0.59445094,  0.27253204],\n",
       "       [-0.3321763 ,  1.46250027],\n",
       "       [-0.04935604, -1.29701657],\n",
       "       [-1.44360046, -1.71918898],\n",
       "       [ 0.8268345 ,  0.7321905 ],\n",
       "       [ 1.14922339,  0.89377076],\n",
       "       [-0.36073275, -0.49704225],\n",
       "       [ 0.26831445,  0.62707446],\n",
       "       [ 0.62533398, -1.4550585 ],\n",
       "       [ 0.49522053, -0.00946213],\n",
       "       [ 1.51197614,  1.19279775],\n",
       "       [-0.03924063,  1.16260524],\n",
       "       [ 0.87322688, -1.36277082],\n",
       "       [ 1.57327016,  0.88315609],\n",
       "       [ 1.42441703, -0.80702634],\n",
       "       [ 0.52616407, -0.26528466],\n",
       "       [ 1.02732204,  0.77578583],\n",
       "       [-0.00900053,  1.39500055],\n",
       "       [-1.50533991, -0.73221674],\n",
       "       [-0.56814506, -1.91962741],\n",
       "       [-1.72906885, -1.90076688],\n",
       "       [ 1.19202117,  0.35644335],\n",
       "       [ 0.90662534, -0.97304835],\n",
       "       [ 1.06108536,  0.97270342],\n",
       "       [ 0.39948386, -0.39353456],\n",
       "       [ 0.74625251, -0.0355487 ],\n",
       "       [-0.72337219,  1.41436293],\n",
       "       [-0.76380392,  0.81362329],\n",
       "       [ 0.00550359, -0.4745618 ],\n",
       "       [-0.74679627, -1.82997283],\n",
       "       [-0.1469415 ,  0.91493549],\n",
       "       [-1.60617806, -0.35021379],\n",
       "       [ 0.02885793,  0.35050382],\n",
       "       [-1.61739376,  0.0357579 ],\n",
       "       [ 0.88896054, -1.59299019],\n",
       "       [-0.17678774,  0.79203663],\n",
       "       [ 0.94281959,  0.66606674],\n",
       "       [-0.60829585, -0.66750027],\n",
       "       [-1.84451116,  1.01950683],\n",
       "       [-0.69751107, -1.9798635 ],\n",
       "       [ 0.85253082,  1.51977089],\n",
       "       [-0.9730961 , -0.65156482],\n",
       "       [-2.04026249,  1.05563142],\n",
       "       [ 1.2845405 , -1.52845902],\n",
       "       [-1.83065941,  0.37421339],\n",
       "       [ 0.84759549,  0.7321905 ],\n",
       "       [-1.30833884,  1.0039509 ],\n",
       "       [-1.1347862 ,  1.42402092],\n",
       "       [-1.49489926,  1.02468221],\n",
       "       [ 1.36405418,  0.47358005],\n",
       "       [-1.2139708 ,  0.2966758 ],\n",
       "       [ 0.49522053,  1.2725405 ],\n",
       "       [-0.78616198, -0.27928757],\n",
       "       [ 0.58562018,  0.83511859],\n",
       "       [ 0.85450412,  0.71574298],\n",
       "       [-0.39426242, -1.21318999],\n",
       "       [-0.49631074, -0.43746469],\n",
       "       [ 0.01774834, -1.66126392],\n",
       "       [ 1.0456669 , -1.05622936],\n",
       "       [ 1.07551559,  1.51977089],\n",
       "       [-1.29103896,  1.09151903],\n",
       "       [-1.18830853,  0.29065278],\n",
       "       [ 1.42904484, -0.50457379],\n",
       "       [-0.20101603, -0.95499286],\n",
       "       [ 0.62533398,  0.13716541],\n",
       "       [ 0.35322947,  1.0607726 ],\n",
       "       [ 0.52513474, -0.00296885],\n",
       "       [-1.93665721, -0.68353104],\n",
       "       [-0.52465633,  1.25270792],\n",
       "       [ 0.12246872, -1.74947332],\n",
       "       [-1.75822712,  0.91493549],\n",
       "       [-0.07867963, -0.1824681 ],\n",
       "       [ 0.36587519, -0.20298441],\n",
       "       [-0.62724967,  0.85652391],\n",
       "       [ 0.53130856, -0.20298441],\n",
       "       [ 0.27045056,  0.90965233],\n",
       "       [-0.24514238, -0.44484785],\n",
       "       [ 0.99148599, -1.46701964],\n",
       "       [-1.63438885,  0.95176976],\n",
       "       [ 0.71820605, -1.26510158],\n",
       "       [ 0.80403524,  0.15589202],\n",
       "       [ 1.46230082, -0.76519122],\n",
       "       [-1.10987617, -0.68353104],\n",
       "       [ 0.28112073, -0.01596668],\n",
       "       [-1.60245911, -0.06841773],\n",
       "       [ 0.32257166, -1.07517365],\n",
       "       [ 0.87322688, -1.46701964],\n",
       "       [ 1.39381826,  1.51501853],\n",
       "       [ 1.12535894,  0.54811736],\n",
       "       [ 0.34161695, -1.00961537],\n",
       "       [ 1.39196069, -1.60632069],\n",
       "       [ 0.29283811, -0.81547901],\n",
       "       [ 0.19634785, -1.56676988],\n",
       "       [ 0.83474968, -1.2441519 ],\n",
       "       [-1.02082882, -1.21318999],\n",
       "       [ 1.49268741,  1.22782124],\n",
       "       [ 1.17682728,  0.00998415],\n",
       "       [ 0.70012304,  1.33163754],\n",
       "       [ 0.0088456 , -1.63345378],\n",
       "       [ 0.55902662,  0.46200391],\n",
       "       [ 1.47796614, -0.50457379],\n",
       "       [-1.61927178, -0.64363221],\n",
       "       [-1.267656  ,  1.13225036],\n",
       "       [-0.75856261, -0.74865064],\n",
       "       [-1.6477566 , -1.3853128 ],\n",
       "       [ 0.30559723,  1.1777216 ],\n",
       "       [ 0.12137572,  0.84583242],\n",
       "       [-1.28790757, -1.43143631],\n",
       "       [-0.52094879, -1.29701657],\n",
       "       [ 0.41309098, -0.87549189],\n",
       "       [ 1.45584317,  1.1777216 ],\n",
       "       [ 0.96816082, -0.93708342]])"
      ]
     },
     "execution_count": 33,
     "metadata": {},
     "output_type": "execute_result"
    }
   ],
   "source": [
    "x"
   ]
  },
  {
   "cell_type": "code",
   "execution_count": 34,
   "id": "2f21fd25",
   "metadata": {},
   "outputs": [
    {
     "data": {
      "text/plain": [
       "array([[ 0.94867429,  0.96224689],\n",
       "       [-1.19131426,  1.0401788 ],\n",
       "       [-1.6477566 ,  1.37070964],\n",
       "       [ 0.14102023,  1.14238689],\n",
       "       [ 0.45271493, -0.74865064],\n",
       "       [-1.82382233,  1.51501853],\n",
       "       [-1.00249116,  0.69372704],\n",
       "       [-0.210275  , -0.10158544],\n",
       "       [-1.82609501, -1.63345378],\n",
       "       [ 0.64764492, -1.56676988],\n",
       "       [-0.88377378, -1.20298758],\n",
       "       [ 0.79708355,  0.18072579],\n",
       "       [-1.52641627,  0.81900563],\n",
       "       [-0.48036844, -1.02813642],\n",
       "       [ 0.69106577,  0.6992403 ],\n",
       "       [ 0.60295713,  1.45770359],\n",
       "       [-0.86079972,  0.89906999],\n",
       "       [ 1.4355201 ,  1.05563142],\n",
       "       [-0.84199328, -0.04209908],\n",
       "       [ 0.09508551,  0.17453165],\n",
       "       [ 0.8337607 ,  0.40367061],\n",
       "       [ 1.01958629, -1.27567304],\n",
       "       [-1.72701642, -0.35739289],\n",
       "       [ 0.93109798, -0.28631129],\n",
       "       [-0.93569772, -0.60431061],\n",
       "       [ 1.26290943, -1.4550585 ],\n",
       "       [ 0.04659013,  0.49664406],\n",
       "       [ 1.0456669 , -0.30040383],\n",
       "       [ 1.12918152,  0.3682981 ],\n",
       "       [-0.82328646, -0.35021379],\n",
       "       [ 1.54129731,  0.43876195],\n",
       "       [-0.29553337, -0.25134036],\n",
       "       [-0.48404243, -1.71918898],\n",
       "       [ 1.28829734, -0.07502706],\n",
       "       [-0.50245749, -1.7342107 ],\n",
       "       [ 1.52114819, -1.3853128 ],\n",
       "       [ 1.3004967 ,  1.2675887 ],\n",
       "       [-0.76905257,  1.53874417],\n",
       "       [-1.21245403,  0.34455612],\n",
       "       [ 0.92816503,  0.95701091],\n",
       "       [ 0.67493776,  0.07409584],\n",
       "       [ 0.41309098,  0.72671408],\n",
       "       [ 1.54769995,  0.40367061],\n",
       "       [ 0.71920943, -0.95499286],\n",
       "       [-1.50359538,  0.28462118],\n",
       "       [ 0.39319467,  0.08679116],\n",
       "       [-0.57689562, -0.82396106],\n",
       "       [ 1.04373768,  1.15250515],\n",
       "       [ 0.92033882, -0.36458821],\n",
       "       [-0.87294338, -0.67550361],\n",
       "       [ 0.64764492, -1.50354208],\n",
       "       [-0.44500506, -0.84958728],\n",
       "       [ 0.81395585,  1.16260524],\n",
       "       [ 0.47140703,  1.38529598],\n",
       "       [ 1.2610261 ,  0.46779569],\n",
       "       [ 0.63852563,  1.53874417],\n",
       "       [-1.85624738,  0.42709558],\n",
       "       [-0.02802214, -0.12834141],\n",
       "       [ 0.75824197,  1.54820925],\n",
       "       [ 0.75724354,  0.50813245],\n",
       "       [-1.05927427, -1.64727037],\n",
       "       [ 1.24783212,  1.21283741],\n",
       "       [ 1.03794746, -0.38627294],\n",
       "       [-0.41714955,  0.51386586],\n",
       "       [-0.08546826,  1.21783637],\n",
       "       [-0.84467375, -0.87549189],\n",
       "       [-1.39531449,  0.21769395],\n",
       "       [ 0.0066178 , -0.45966823],\n",
       "       [ 1.01958629,  0.39191142],\n",
       "       [ 0.81792069,  1.2725405 ],\n",
       "       [ 0.64055308,  0.5708121 ],\n",
       "       [-0.3321763 , -0.4745618 ],\n",
       "       [-1.47420382,  0.70474737],\n",
       "       [-0.10474749, -1.21318999],\n",
       "       [ 0.7841573 ,  0.21769395],\n",
       "       [-1.65352738,  1.26263268],\n",
       "       [-1.46224158, -1.70439494],\n",
       "       [-0.20680098,  0.45039797],\n",
       "       [-1.90271957,  0.53102334],\n",
       "       [-0.25915513, -1.01885558],\n",
       "       [-0.74679627,  0.34455612],\n",
       "       [ 1.04277291, -1.3853128 ],\n",
       "       [-0.76118235, -0.05523482],\n",
       "       [-0.85272745,  1.30216339],\n",
       "       [ 0.78515237,  1.22782124],\n",
       "       [ 0.58051341, -0.1824681 ],\n",
       "       [-0.74810183,  0.39191142],\n",
       "       [-0.32151022,  1.10682827],\n",
       "       [-0.59445094,  0.27253204],\n",
       "       [-0.3321763 ,  1.46250027],\n",
       "       [-0.04935604, -1.29701657],\n",
       "       [-1.44360046, -1.71918898],\n",
       "       [ 0.8268345 ,  0.7321905 ],\n",
       "       [ 1.14922339,  0.89377076],\n",
       "       [-0.36073275, -0.49704225],\n",
       "       [ 0.26831445,  0.62707446],\n",
       "       [ 0.62533398, -1.4550585 ],\n",
       "       [ 0.49522053, -0.00946213],\n",
       "       [ 1.51197614,  1.19279775],\n",
       "       [-0.03924063,  1.16260524],\n",
       "       [ 0.87322688, -1.36277082],\n",
       "       [ 1.57327016,  0.88315609],\n",
       "       [ 1.42441703, -0.80702634],\n",
       "       [ 0.52616407, -0.26528466],\n",
       "       [ 1.02732204,  0.77578583],\n",
       "       [-0.00900053,  1.39500055],\n",
       "       [-1.50533991, -0.73221674],\n",
       "       [-0.56814506, -1.91962741],\n",
       "       [-1.72906885, -1.90076688],\n",
       "       [ 1.19202117,  0.35644335],\n",
       "       [ 0.90662534, -0.97304835],\n",
       "       [ 1.06108536,  0.97270342],\n",
       "       [ 0.39948386, -0.39353456],\n",
       "       [ 0.74625251, -0.0355487 ],\n",
       "       [-0.72337219,  1.41436293],\n",
       "       [-0.76380392,  0.81362329],\n",
       "       [ 0.00550359, -0.4745618 ],\n",
       "       [-0.74679627, -1.82997283],\n",
       "       [-0.1469415 ,  0.91493549],\n",
       "       [-1.60617806, -0.35021379],\n",
       "       [ 0.02885793,  0.35050382],\n",
       "       [-1.61739376,  0.0357579 ],\n",
       "       [ 0.88896054, -1.59299019],\n",
       "       [-0.17678774,  0.79203663],\n",
       "       [ 0.94281959,  0.66606674],\n",
       "       [-0.60829585, -0.66750027],\n",
       "       [-1.84451116,  1.01950683],\n",
       "       [-0.69751107, -1.9798635 ],\n",
       "       [ 0.85253082,  1.51977089],\n",
       "       [-0.9730961 , -0.65156482],\n",
       "       [-2.04026249,  1.05563142],\n",
       "       [ 1.2845405 , -1.52845902],\n",
       "       [-1.83065941,  0.37421339],\n",
       "       [ 0.84759549,  0.7321905 ],\n",
       "       [-1.30833884,  1.0039509 ],\n",
       "       [-1.1347862 ,  1.42402092],\n",
       "       [-1.49489926,  1.02468221],\n",
       "       [ 1.36405418,  0.47358005],\n",
       "       [-1.2139708 ,  0.2966758 ],\n",
       "       [ 0.49522053,  1.2725405 ],\n",
       "       [-0.78616198, -0.27928757],\n",
       "       [ 0.58562018,  0.83511859],\n",
       "       [ 0.85450412,  0.71574298],\n",
       "       [-0.39426242, -1.21318999],\n",
       "       [-0.49631074, -0.43746469],\n",
       "       [ 0.01774834, -1.66126392],\n",
       "       [ 1.0456669 , -1.05622936],\n",
       "       [ 1.07551559,  1.51977089],\n",
       "       [-1.29103896,  1.09151903],\n",
       "       [-1.18830853,  0.29065278],\n",
       "       [ 1.42904484, -0.50457379],\n",
       "       [-0.20101603, -0.95499286],\n",
       "       [ 0.62533398,  0.13716541],\n",
       "       [ 0.35322947,  1.0607726 ],\n",
       "       [ 0.52513474, -0.00296885],\n",
       "       [-1.93665721, -0.68353104],\n",
       "       [-0.52465633,  1.25270792],\n",
       "       [ 0.12246872, -1.74947332],\n",
       "       [-1.75822712,  0.91493549],\n",
       "       [-0.07867963, -0.1824681 ],\n",
       "       [ 0.36587519, -0.20298441],\n",
       "       [-0.62724967,  0.85652391],\n",
       "       [ 0.53130856, -0.20298441],\n",
       "       [ 0.27045056,  0.90965233],\n",
       "       [-0.24514238, -0.44484785],\n",
       "       [ 0.99148599, -1.46701964],\n",
       "       [-1.63438885,  0.95176976],\n",
       "       [ 0.71820605, -1.26510158],\n",
       "       [ 0.80403524,  0.15589202],\n",
       "       [ 1.46230082, -0.76519122],\n",
       "       [-1.10987617, -0.68353104],\n",
       "       [ 0.28112073, -0.01596668],\n",
       "       [-1.60245911, -0.06841773],\n",
       "       [ 0.32257166, -1.07517365],\n",
       "       [ 0.87322688, -1.46701964],\n",
       "       [ 1.39381826,  1.51501853],\n",
       "       [ 1.12535894,  0.54811736],\n",
       "       [ 0.34161695, -1.00961537],\n",
       "       [ 1.39196069, -1.60632069],\n",
       "       [ 0.29283811, -0.81547901],\n",
       "       [ 0.19634785, -1.56676988],\n",
       "       [ 0.83474968, -1.2441519 ],\n",
       "       [-1.02082882, -1.21318999],\n",
       "       [ 1.49268741,  1.22782124],\n",
       "       [ 1.17682728,  0.00998415],\n",
       "       [ 0.70012304,  1.33163754],\n",
       "       [ 0.0088456 , -1.63345378],\n",
       "       [ 0.55902662,  0.46200391],\n",
       "       [ 1.47796614, -0.50457379],\n",
       "       [-1.61927178, -0.64363221],\n",
       "       [-1.267656  ,  1.13225036],\n",
       "       [-0.75856261, -0.74865064],\n",
       "       [-1.6477566 , -1.3853128 ],\n",
       "       [ 0.30559723,  1.1777216 ],\n",
       "       [ 0.12137572,  0.84583242],\n",
       "       [-1.28790757, -1.43143631],\n",
       "       [-0.52094879, -1.29701657],\n",
       "       [ 0.41309098, -0.87549189],\n",
       "       [ 1.45584317,  1.1777216 ],\n",
       "       [ 0.96816082, -0.93708342]])"
      ]
     },
     "execution_count": 34,
     "metadata": {},
     "output_type": "execute_result"
    }
   ],
   "source": [
    "from sklearn.preprocessing import StandardScaler\n",
    "sc=StandardScaler()\n",
    "x=sc.fit_transform(x)\n",
    "x"
   ]
  },
  {
   "cell_type": "code",
   "execution_count": null,
   "id": "776d41a6",
   "metadata": {},
   "outputs": [],
   "source": []
  }
 ],
 "metadata": {
  "kernelspec": {
   "display_name": "Python 3",
   "language": "python",
   "name": "python3"
  },
  "language_info": {
   "codemirror_mode": {
    "name": "ipython",
    "version": 3
   },
   "file_extension": ".py",
   "mimetype": "text/x-python",
   "name": "python",
   "nbconvert_exporter": "python",
   "pygments_lexer": "ipython3",
   "version": "3.8.8"
  }
 },
 "nbformat": 4,
 "nbformat_minor": 5
}
