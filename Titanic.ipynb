{
 "cells": [
  {
   "cell_type": "code",
   "execution_count": 1,
   "id": "18e4c097",
   "metadata": {},
   "outputs": [],
   "source": [
    "import pandas as pd\n",
    "import numpy as np\n",
    "import matplotlib.pyplot as plt\n",
    "import seaborn as sns\n",
    "\n",
    "import warnings\n",
    "warnings.filterwarnings('ignore')"
   ]
  },
  {
   "cell_type": "code",
   "execution_count": 2,
   "id": "9f335916",
   "metadata": {},
   "outputs": [
    {
     "data": {
      "text/html": [
       "<div>\n",
       "<style scoped>\n",
       "    .dataframe tbody tr th:only-of-type {\n",
       "        vertical-align: middle;\n",
       "    }\n",
       "\n",
       "    .dataframe tbody tr th {\n",
       "        vertical-align: top;\n",
       "    }\n",
       "\n",
       "    .dataframe thead th {\n",
       "        text-align: right;\n",
       "    }\n",
       "</style>\n",
       "<table border=\"1\" class=\"dataframe\">\n",
       "  <thead>\n",
       "    <tr style=\"text-align: right;\">\n",
       "      <th></th>\n",
       "      <th>PassengerId</th>\n",
       "      <th>Survived</th>\n",
       "      <th>Pclass</th>\n",
       "      <th>Name</th>\n",
       "      <th>Sex</th>\n",
       "      <th>Age</th>\n",
       "      <th>SibSp</th>\n",
       "      <th>Parch</th>\n",
       "      <th>Ticket</th>\n",
       "      <th>Fare</th>\n",
       "      <th>Cabin</th>\n",
       "      <th>Embarked</th>\n",
       "    </tr>\n",
       "  </thead>\n",
       "  <tbody>\n",
       "    <tr>\n",
       "      <th>0</th>\n",
       "      <td>1</td>\n",
       "      <td>0</td>\n",
       "      <td>3</td>\n",
       "      <td>Braund, Mr. Owen Harris</td>\n",
       "      <td>male</td>\n",
       "      <td>22.0</td>\n",
       "      <td>1</td>\n",
       "      <td>0</td>\n",
       "      <td>A/5 21171</td>\n",
       "      <td>7.2500</td>\n",
       "      <td>NaN</td>\n",
       "      <td>S</td>\n",
       "    </tr>\n",
       "    <tr>\n",
       "      <th>1</th>\n",
       "      <td>2</td>\n",
       "      <td>1</td>\n",
       "      <td>1</td>\n",
       "      <td>Cumings, Mrs. John Bradley (Florence Briggs Th...</td>\n",
       "      <td>female</td>\n",
       "      <td>38.0</td>\n",
       "      <td>1</td>\n",
       "      <td>0</td>\n",
       "      <td>PC 17599</td>\n",
       "      <td>71.2833</td>\n",
       "      <td>C85</td>\n",
       "      <td>C</td>\n",
       "    </tr>\n",
       "    <tr>\n",
       "      <th>2</th>\n",
       "      <td>3</td>\n",
       "      <td>1</td>\n",
       "      <td>3</td>\n",
       "      <td>Heikkinen, Miss. Laina</td>\n",
       "      <td>female</td>\n",
       "      <td>26.0</td>\n",
       "      <td>0</td>\n",
       "      <td>0</td>\n",
       "      <td>STON/O2. 3101282</td>\n",
       "      <td>7.9250</td>\n",
       "      <td>NaN</td>\n",
       "      <td>S</td>\n",
       "    </tr>\n",
       "    <tr>\n",
       "      <th>3</th>\n",
       "      <td>4</td>\n",
       "      <td>1</td>\n",
       "      <td>1</td>\n",
       "      <td>Futrelle, Mrs. Jacques Heath (Lily May Peel)</td>\n",
       "      <td>female</td>\n",
       "      <td>35.0</td>\n",
       "      <td>1</td>\n",
       "      <td>0</td>\n",
       "      <td>113803</td>\n",
       "      <td>53.1000</td>\n",
       "      <td>C123</td>\n",
       "      <td>S</td>\n",
       "    </tr>\n",
       "    <tr>\n",
       "      <th>4</th>\n",
       "      <td>5</td>\n",
       "      <td>0</td>\n",
       "      <td>3</td>\n",
       "      <td>Allen, Mr. William Henry</td>\n",
       "      <td>male</td>\n",
       "      <td>35.0</td>\n",
       "      <td>0</td>\n",
       "      <td>0</td>\n",
       "      <td>373450</td>\n",
       "      <td>8.0500</td>\n",
       "      <td>NaN</td>\n",
       "      <td>S</td>\n",
       "    </tr>\n",
       "    <tr>\n",
       "      <th>...</th>\n",
       "      <td>...</td>\n",
       "      <td>...</td>\n",
       "      <td>...</td>\n",
       "      <td>...</td>\n",
       "      <td>...</td>\n",
       "      <td>...</td>\n",
       "      <td>...</td>\n",
       "      <td>...</td>\n",
       "      <td>...</td>\n",
       "      <td>...</td>\n",
       "      <td>...</td>\n",
       "      <td>...</td>\n",
       "    </tr>\n",
       "    <tr>\n",
       "      <th>886</th>\n",
       "      <td>887</td>\n",
       "      <td>0</td>\n",
       "      <td>2</td>\n",
       "      <td>Montvila, Rev. Juozas</td>\n",
       "      <td>male</td>\n",
       "      <td>27.0</td>\n",
       "      <td>0</td>\n",
       "      <td>0</td>\n",
       "      <td>211536</td>\n",
       "      <td>13.0000</td>\n",
       "      <td>NaN</td>\n",
       "      <td>S</td>\n",
       "    </tr>\n",
       "    <tr>\n",
       "      <th>887</th>\n",
       "      <td>888</td>\n",
       "      <td>1</td>\n",
       "      <td>1</td>\n",
       "      <td>Graham, Miss. Margaret Edith</td>\n",
       "      <td>female</td>\n",
       "      <td>19.0</td>\n",
       "      <td>0</td>\n",
       "      <td>0</td>\n",
       "      <td>112053</td>\n",
       "      <td>30.0000</td>\n",
       "      <td>B42</td>\n",
       "      <td>S</td>\n",
       "    </tr>\n",
       "    <tr>\n",
       "      <th>888</th>\n",
       "      <td>889</td>\n",
       "      <td>0</td>\n",
       "      <td>3</td>\n",
       "      <td>Johnston, Miss. Catherine Helen \"Carrie\"</td>\n",
       "      <td>female</td>\n",
       "      <td>NaN</td>\n",
       "      <td>1</td>\n",
       "      <td>2</td>\n",
       "      <td>W./C. 6607</td>\n",
       "      <td>23.4500</td>\n",
       "      <td>NaN</td>\n",
       "      <td>S</td>\n",
       "    </tr>\n",
       "    <tr>\n",
       "      <th>889</th>\n",
       "      <td>890</td>\n",
       "      <td>1</td>\n",
       "      <td>1</td>\n",
       "      <td>Behr, Mr. Karl Howell</td>\n",
       "      <td>male</td>\n",
       "      <td>26.0</td>\n",
       "      <td>0</td>\n",
       "      <td>0</td>\n",
       "      <td>111369</td>\n",
       "      <td>30.0000</td>\n",
       "      <td>C148</td>\n",
       "      <td>C</td>\n",
       "    </tr>\n",
       "    <tr>\n",
       "      <th>890</th>\n",
       "      <td>891</td>\n",
       "      <td>0</td>\n",
       "      <td>3</td>\n",
       "      <td>Dooley, Mr. Patrick</td>\n",
       "      <td>male</td>\n",
       "      <td>32.0</td>\n",
       "      <td>0</td>\n",
       "      <td>0</td>\n",
       "      <td>370376</td>\n",
       "      <td>7.7500</td>\n",
       "      <td>NaN</td>\n",
       "      <td>Q</td>\n",
       "    </tr>\n",
       "  </tbody>\n",
       "</table>\n",
       "<p>891 rows × 12 columns</p>\n",
       "</div>"
      ],
      "text/plain": [
       "     PassengerId  Survived  Pclass  \\\n",
       "0              1         0       3   \n",
       "1              2         1       1   \n",
       "2              3         1       3   \n",
       "3              4         1       1   \n",
       "4              5         0       3   \n",
       "..           ...       ...     ...   \n",
       "886          887         0       2   \n",
       "887          888         1       1   \n",
       "888          889         0       3   \n",
       "889          890         1       1   \n",
       "890          891         0       3   \n",
       "\n",
       "                                                  Name     Sex   Age  SibSp  \\\n",
       "0                              Braund, Mr. Owen Harris    male  22.0      1   \n",
       "1    Cumings, Mrs. John Bradley (Florence Briggs Th...  female  38.0      1   \n",
       "2                               Heikkinen, Miss. Laina  female  26.0      0   \n",
       "3         Futrelle, Mrs. Jacques Heath (Lily May Peel)  female  35.0      1   \n",
       "4                             Allen, Mr. William Henry    male  35.0      0   \n",
       "..                                                 ...     ...   ...    ...   \n",
       "886                              Montvila, Rev. Juozas    male  27.0      0   \n",
       "887                       Graham, Miss. Margaret Edith  female  19.0      0   \n",
       "888           Johnston, Miss. Catherine Helen \"Carrie\"  female   NaN      1   \n",
       "889                              Behr, Mr. Karl Howell    male  26.0      0   \n",
       "890                                Dooley, Mr. Patrick    male  32.0      0   \n",
       "\n",
       "     Parch            Ticket     Fare Cabin Embarked  \n",
       "0        0         A/5 21171   7.2500   NaN        S  \n",
       "1        0          PC 17599  71.2833   C85        C  \n",
       "2        0  STON/O2. 3101282   7.9250   NaN        S  \n",
       "3        0            113803  53.1000  C123        S  \n",
       "4        0            373450   8.0500   NaN        S  \n",
       "..     ...               ...      ...   ...      ...  \n",
       "886      0            211536  13.0000   NaN        S  \n",
       "887      0            112053  30.0000   B42        S  \n",
       "888      2        W./C. 6607  23.4500   NaN        S  \n",
       "889      0            111369  30.0000  C148        C  \n",
       "890      0            370376   7.7500   NaN        Q  \n",
       "\n",
       "[891 rows x 12 columns]"
      ]
     },
     "execution_count": 2,
     "metadata": {},
     "output_type": "execute_result"
    }
   ],
   "source": [
    "df = pd.read_csv('https://raw.githubusercontent.com/dsrscientist/dataset1/master/titanic_train.csv')\n",
    "df"
   ]
  },
  {
   "cell_type": "code",
   "execution_count": 3,
   "id": "20bbbf9c",
   "metadata": {},
   "outputs": [
    {
     "data": {
      "text/plain": [
       "PassengerId      0\n",
       "Survived         0\n",
       "Pclass           0\n",
       "Name             0\n",
       "Sex              0\n",
       "Age            177\n",
       "SibSp            0\n",
       "Parch            0\n",
       "Ticket           0\n",
       "Fare             0\n",
       "Cabin          687\n",
       "Embarked         2\n",
       "dtype: int64"
      ]
     },
     "execution_count": 3,
     "metadata": {},
     "output_type": "execute_result"
    }
   ],
   "source": [
    "df.isnull().sum()"
   ]
  },
  {
   "cell_type": "markdown",
   "id": "e63396a6",
   "metadata": {},
   "source": [
    "Out of 891 rows Cabin has 687 null values, Age has 177 null values and Embarked has 2 null values."
   ]
  },
  {
   "cell_type": "code",
   "execution_count": 4,
   "id": "1820676e",
   "metadata": {},
   "outputs": [
    {
     "data": {
      "text/plain": [
       "<AxesSubplot:>"
      ]
     },
     "execution_count": 4,
     "metadata": {},
     "output_type": "execute_result"
    },
    {
     "data": {
      "image/png": "[encoded data removed]",
      "text/plain": [
       "<Figure size 432x288 with 1 Axes>"
      ]
     },
     "metadata": {
      "needs_background": "light"
     },
     "output_type": "display_data"
    }
   ],
   "source": [
    "sns.heatmap(df.isnull(), yticklabels = False, cbar = False) "
   ]
  },
  {
   "cell_type": "code",
   "execution_count": 5,
   "id": "65b2a7d6",
   "metadata": {},
   "outputs": [
    {
     "data": {
      "text/plain": [
       "<AxesSubplot:xlabel='Survived', ylabel='count'>"
      ]
     },
     "execution_count": 5,
     "metadata": {},
     "output_type": "execute_result"
    },
    {
     "data": {
      "image/png": "[encoded data removed]",
      "text/plain": [
       "<Figure size 432x288 with 1 Axes>"
      ]
     },
     "metadata": {
      "needs_background": "light"
     },
     "output_type": "display_data"
    }
   ],
   "source": [
    "sns.countplot(x ='Survived', data = df)"
   ]
  },
  {
   "cell_type": "markdown",
   "id": "1e88a7e7",
   "metadata": {},
   "source": [
    "0 indicates people who didnt survived and 1 indicates people who survived."
   ]
  },
  {
   "cell_type": "code",
   "execution_count": 6,
   "id": "9cde5f6b",
   "metadata": {},
   "outputs": [
    {
     "data": {
      "text/plain": [
       "<AxesSubplot:xlabel='Survived', ylabel='count'>"
      ]
     },
     "execution_count": 6,
     "metadata": {},
     "output_type": "execute_result"
    },
    {
     "data": {
      "image/png": "[encoded data removed]",
      "text/plain": [
       "<Figure size 432x288 with 1 Axes>"
      ]
     },
     "metadata": {
      "needs_background": "light"
     },
     "output_type": "display_data"
    }
   ],
   "source": [
    "sns.countplot(x = 'Survived', hue = 'Sex', data = df)"
   ]
  },
  {
   "cell_type": "markdown",
   "id": "7b8edb9f",
   "metadata": {},
   "source": [
    "Count of survived peoples based on sex."
   ]
  },
  {
   "cell_type": "markdown",
   "id": "b529d150",
   "metadata": {},
   "source": [
    "It can be seen clearly that majority of people who didn't survived are male."
   ]
  },
  {
   "cell_type": "code",
   "execution_count": 7,
   "id": "2173e363",
   "metadata": {},
   "outputs": [
    {
     "data": {
      "text/plain": [
       "<AxesSubplot:xlabel='Survived', ylabel='count'>"
      ]
     },
     "execution_count": 7,
     "metadata": {},
     "output_type": "execute_result"
    },
    {
     "data": {
      "image/png": "[encoded data removed]",
      "text/plain": [
       "<Figure size 432x288 with 1 Axes>"
      ]
     },
     "metadata": {
      "needs_background": "light"
     },
     "output_type": "display_data"
    }
   ],
   "source": [
    "sns.countplot(x = 'Survived', hue = 'Pclass', data = df)"
   ]
  },
  {
   "cell_type": "markdown",
   "id": "111b0dc3",
   "metadata": {},
   "source": [
    "It is clear from the plot that majority of people who died are from Pclass = 3, while Pclass = 1 has least number of people who died.  "
   ]
  },
  {
   "cell_type": "code",
   "execution_count": 8,
   "id": "c385413d",
   "metadata": {},
   "outputs": [
    {
     "data": {
      "text/html": [
       "<div>\n",
       "<style scoped>\n",
       "    .dataframe tbody tr th:only-of-type {\n",
       "        vertical-align: middle;\n",
       "    }\n",
       "\n",
       "    .dataframe tbody tr th {\n",
       "        vertical-align: top;\n",
       "    }\n",
       "\n",
       "    .dataframe thead th {\n",
       "        text-align: right;\n",
       "    }\n",
       "</style>\n",
       "<table border=\"1\" class=\"dataframe\">\n",
       "  <thead>\n",
       "    <tr style=\"text-align: right;\">\n",
       "      <th></th>\n",
       "      <th>PassengerId</th>\n",
       "      <th>Survived</th>\n",
       "      <th>Pclass</th>\n",
       "      <th>Age</th>\n",
       "      <th>SibSp</th>\n",
       "      <th>Parch</th>\n",
       "      <th>Fare</th>\n",
       "    </tr>\n",
       "  </thead>\n",
       "  <tbody>\n",
       "    <tr>\n",
       "      <th>count</th>\n",
       "      <td>891.000000</td>\n",
       "      <td>891.000000</td>\n",
       "      <td>891.000000</td>\n",
       "      <td>714.000000</td>\n",
       "      <td>891.000000</td>\n",
       "      <td>891.000000</td>\n",
       "      <td>891.000000</td>\n",
       "    </tr>\n",
       "    <tr>\n",
       "      <th>mean</th>\n",
       "      <td>446.000000</td>\n",
       "      <td>0.383838</td>\n",
       "      <td>2.308642</td>\n",
       "      <td>29.699118</td>\n",
       "      <td>0.523008</td>\n",
       "      <td>0.381594</td>\n",
       "      <td>32.204208</td>\n",
       "    </tr>\n",
       "    <tr>\n",
       "      <th>std</th>\n",
       "      <td>257.353842</td>\n",
       "      <td>0.486592</td>\n",
       "      <td>0.836071</td>\n",
       "      <td>14.526497</td>\n",
       "      <td>1.102743</td>\n",
       "      <td>0.806057</td>\n",
       "      <td>49.693429</td>\n",
       "    </tr>\n",
       "    <tr>\n",
       "      <th>min</th>\n",
       "      <td>1.000000</td>\n",
       "      <td>0.000000</td>\n",
       "      <td>1.000000</td>\n",
       "      <td>0.420000</td>\n",
       "      <td>0.000000</td>\n",
       "      <td>0.000000</td>\n",
       "      <td>0.000000</td>\n",
       "    </tr>\n",
       "    <tr>\n",
       "      <th>25%</th>\n",
       "      <td>223.500000</td>\n",
       "      <td>0.000000</td>\n",
       "      <td>2.000000</td>\n",
       "      <td>20.125000</td>\n",
       "      <td>0.000000</td>\n",
       "      <td>0.000000</td>\n",
       "      <td>7.910400</td>\n",
       "    </tr>\n",
       "    <tr>\n",
       "      <th>50%</th>\n",
       "      <td>446.000000</td>\n",
       "      <td>0.000000</td>\n",
       "      <td>3.000000</td>\n",
       "      <td>28.000000</td>\n",
       "      <td>0.000000</td>\n",
       "      <td>0.000000</td>\n",
       "      <td>14.454200</td>\n",
       "    </tr>\n",
       "    <tr>\n",
       "      <th>75%</th>\n",
       "      <td>668.500000</td>\n",
       "      <td>1.000000</td>\n",
       "      <td>3.000000</td>\n",
       "      <td>38.000000</td>\n",
       "      <td>1.000000</td>\n",
       "      <td>0.000000</td>\n",
       "      <td>31.000000</td>\n",
       "    </tr>\n",
       "    <tr>\n",
       "      <th>max</th>\n",
       "      <td>891.000000</td>\n",
       "      <td>1.000000</td>\n",
       "      <td>3.000000</td>\n",
       "      <td>80.000000</td>\n",
       "      <td>8.000000</td>\n",
       "      <td>6.000000</td>\n",
       "      <td>512.329200</td>\n",
       "    </tr>\n",
       "  </tbody>\n",
       "</table>\n",
       "</div>"
      ],
      "text/plain": [
       "       PassengerId    Survived      Pclass         Age       SibSp  \\\n",
       "count   891.000000  891.000000  891.000000  714.000000  891.000000   \n",
       "mean    446.000000    0.383838    2.308642   29.699118    0.523008   \n",
       "std     257.353842    0.486592    0.836071   14.526497    1.102743   \n",
       "min       1.000000    0.000000    1.000000    0.420000    0.000000   \n",
       "25%     223.500000    0.000000    2.000000   20.125000    0.000000   \n",
       "50%     446.000000    0.000000    3.000000   28.000000    0.000000   \n",
       "75%     668.500000    1.000000    3.000000   38.000000    1.000000   \n",
       "max     891.000000    1.000000    3.000000   80.000000    8.000000   \n",
       "\n",
       "            Parch        Fare  \n",
       "count  891.000000  891.000000  \n",
       "mean     0.381594   32.204208  \n",
       "std      0.806057   49.693429  \n",
       "min      0.000000    0.000000  \n",
       "25%      0.000000    7.910400  \n",
       "50%      0.000000   14.454200  \n",
       "75%      0.000000   31.000000  \n",
       "max      6.000000  512.329200  "
      ]
     },
     "execution_count": 8,
     "metadata": {},
     "output_type": "execute_result"
    }
   ],
   "source": [
    "df.describe()"
   ]
  },
  {
   "cell_type": "markdown",
   "id": "c5323f83",
   "metadata": {},
   "source": [
    "Highest varience is seen in passengerID as it is a unique Id.\n",
    "\n",
    "Secound is of Age range is approx(79)\n",
    "\n",
    "Slight skewness can be seen in fare, age columns."
   ]
  },
  {
   "cell_type": "code",
   "execution_count": 9,
   "id": "4806351a",
   "metadata": {},
   "outputs": [
    {
     "name": "stdout",
     "output_type": "stream",
     "text": [
      "<class 'pandas.core.frame.DataFrame'>\n",
      "RangeIndex: 891 entries, 0 to 890\n",
      "Data columns (total 12 columns):\n",
      " #   Column       Non-Null Count  Dtype  \n",
      "---  ------       --------------  -----  \n",
      " 0   PassengerId  891 non-null    int64  \n",
      " 1   Survived     891 non-null    int64  \n",
      " 2   Pclass       891 non-null    int64  \n",
      " 3   Name         891 non-null    object \n",
      " 4   Sex          891 non-null    object \n",
      " 5   Age          714 non-null    float64\n",
      " 6   SibSp        891 non-null    int64  \n",
      " 7   Parch        891 non-null    int64  \n",
      " 8   Ticket       891 non-null    object \n",
      " 9   Fare         891 non-null    float64\n",
      " 10  Cabin        204 non-null    object \n",
      " 11  Embarked     889 non-null    object \n",
      "dtypes: float64(2), int64(5), object(5)\n",
      "memory usage: 83.7+ KB\n"
     ]
    }
   ],
   "source": [
    "df.info()"
   ]
  },
  {
   "cell_type": "markdown",
   "id": "4f57bd2f",
   "metadata": {},
   "source": [
    "All columns have appropriate datatypes, except age which is float it should be int64."
   ]
  },
  {
   "cell_type": "code",
   "execution_count": 10,
   "id": "a8747ea5",
   "metadata": {},
   "outputs": [
    {
     "data": {
      "text/plain": [
       "77.10437710437711"
      ]
     },
     "execution_count": 10,
     "metadata": {},
     "output_type": "execute_result"
    }
   ],
   "source": [
    "null_rows = (891-204)/891 * 100\n",
    "null_rows"
   ]
  },
  {
   "cell_type": "markdown",
   "id": "455b0692",
   "metadata": {},
   "source": [
    "Percentage of null rows in cabin column is 77.1% which is a large percentage so it is better to drop cabin column."
   ]
  },
  {
   "cell_type": "code",
   "execution_count": 11,
   "id": "c9f20b31",
   "metadata": {},
   "outputs": [],
   "source": [
    "df.drop('Cabin', axis = 1, inplace = True)"
   ]
  },
  {
   "cell_type": "code",
   "execution_count": 12,
   "id": "a58a067c",
   "metadata": {},
   "outputs": [
    {
     "data": {
      "text/plain": [
       "['PassengerId', 'Survived', 'Pclass', 'Age', 'SibSp', 'Parch', 'Fare']"
      ]
     },
     "execution_count": 12,
     "metadata": {},
     "output_type": "execute_result"
    }
   ],
   "source": [
    "numerical_features = [i for i in df if df[i].dtypes!='O']\n",
    "numerical_features"
   ]
  },
  {
   "cell_type": "code",
   "execution_count": 13,
   "id": "7b5d2ab8",
   "metadata": {},
   "outputs": [
    {
     "data": {
      "text/plain": [
       "['Name', 'Sex', 'Ticket', 'Embarked']"
      ]
     },
     "execution_count": 13,
     "metadata": {},
     "output_type": "execute_result"
    }
   ],
   "source": [
    "categorical_features = [i for i in df if df[i].dtypes=='O']\n",
    "categorical_features"
   ]
  },
  {
   "cell_type": "code",
   "execution_count": 14,
   "id": "335c5291",
   "metadata": {},
   "outputs": [
    {
     "data": {
      "text/plain": [
       "<AxesSubplot:xlabel='Survived', ylabel='Age'>"
      ]
     },
     "execution_count": 14,
     "metadata": {},
     "output_type": "execute_result"
    },
    {
     "data": {
      "image/png": "[encoded data removed]",
      "text/plain": [
       "<Figure size 432x288 with 1 Axes>"
      ]
     },
     "metadata": {
      "needs_background": "light"
     },
     "output_type": "display_data"
    }
   ],
   "source": [
    "sns.swarmplot(x = 'Survived', y = 'Age', data = df)"
   ]
  },
  {
   "cell_type": "markdown",
   "id": "6e8a523a",
   "metadata": {},
   "source": [
    "Majority of people who didn't survived the Titanic range from 20-30 age group."
   ]
  },
  {
   "cell_type": "code",
   "execution_count": 15,
   "id": "28675fb9",
   "metadata": {},
   "outputs": [
    {
     "data": {
      "text/plain": [
       "3    491\n",
       "1    216\n",
       "2    184\n",
       "Name: Pclass, dtype: int64"
      ]
     },
     "execution_count": 15,
     "metadata": {},
     "output_type": "execute_result"
    }
   ],
   "source": [
    "df['Pclass'].value_counts()"
   ]
  },
  {
   "cell_type": "markdown",
   "id": "0786d82a",
   "metadata": {},
   "source": [
    "Maximum number of people are in class-3 while least are in class-2"
   ]
  },
  {
   "cell_type": "code",
   "execution_count": 16,
   "id": "ccaec95d",
   "metadata": {},
   "outputs": [
    {
     "data": {
      "text/plain": [
       "<AxesSubplot:xlabel='Pclass', ylabel='count'>"
      ]
     },
     "execution_count": 16,
     "metadata": {},
     "output_type": "execute_result"
    },
    {
     "data": {
      "image/png": "[encoded data removed]",
      "text/plain": [
       "<Figure size 432x288 with 1 Axes>"
      ]
     },
     "metadata": {
      "needs_background": "light"
     },
     "output_type": "display_data"
    }
   ],
   "source": [
    "sns.countplot(x = 'Pclass', data = df)"
   ]
  },
  {
   "cell_type": "markdown",
   "id": "295b2cb6",
   "metadata": {},
   "source": [
    "Replacing Null Values"
   ]
  },
  {
   "cell_type": "code",
   "execution_count": 17,
   "id": "9f09c7c1",
   "metadata": {},
   "outputs": [],
   "source": [
    "df['Embarked'] = np.where(df['Embarked'].isnull(), df['Embarked'].mode(), df['Embarked'])"
   ]
  },
  {
   "cell_type": "code",
   "execution_count": 18,
   "id": "a95c8139",
   "metadata": {},
   "outputs": [
    {
     "data": {
      "text/plain": [
       "0"
      ]
     },
     "execution_count": 18,
     "metadata": {},
     "output_type": "execute_result"
    }
   ],
   "source": [
    "df['Embarked'].isnull().sum()"
   ]
  },
  {
   "cell_type": "code",
   "execution_count": 19,
   "id": "a833d1a7",
   "metadata": {},
   "outputs": [
    {
     "data": {
      "text/plain": [
       "<AxesSubplot:xlabel='Pclass', ylabel='Age'>"
      ]
     },
     "execution_count": 19,
     "metadata": {},
     "output_type": "execute_result"
    },
    {
     "data": {
      "image/png": "[encoded data removed]",
      "text/plain": [
       "<Figure size 432x288 with 1 Axes>"
      ]
     },
     "metadata": {
      "needs_background": "light"
     },
     "output_type": "display_data"
    }
   ],
   "source": [
    "sns.boxplot(x = 'Pclass', y = 'Age', data = df)"
   ]
  },
  {
   "cell_type": "markdown",
   "id": "74b87bc5",
   "metadata": {},
   "source": [
    "Approx. Average age in Pclass-1 is 38, \n",
    " Approx. Average age in Pclass-2 is 30,\n",
    " Approx. Average age in Pclass-3 is 25."
   ]
  },
  {
   "cell_type": "code",
   "execution_count": 20,
   "id": "d709b5b0",
   "metadata": {},
   "outputs": [],
   "source": [
    "df['Age'] = np.where(df['Age'].isnull(), df['Age'].median(), df['Age'])"
   ]
  },
  {
   "cell_type": "code",
   "execution_count": 21,
   "id": "c160ebbf",
   "metadata": {},
   "outputs": [
    {
     "data": {
      "text/plain": [
       "0"
      ]
     },
     "execution_count": 21,
     "metadata": {},
     "output_type": "execute_result"
    }
   ],
   "source": [
    "df['Age'].isnull().sum()"
   ]
  },
  {
   "cell_type": "markdown",
   "id": "d7115cbf",
   "metadata": {},
   "source": [
    "Dropping both PassengerId and Name as both are unique."
   ]
  },
  {
   "cell_type": "code",
   "execution_count": 22,
   "id": "343831cd",
   "metadata": {},
   "outputs": [],
   "source": [
    "df.drop(['PassengerId', 'Name'], axis = 1, inplace = True)"
   ]
  },
  {
   "cell_type": "code",
   "execution_count": 23,
   "id": "c50199ed",
   "metadata": {},
   "outputs": [
    {
     "data": {
      "text/plain": [
       "Index(['Survived', 'Pclass', 'Sex', 'Age', 'SibSp', 'Parch', 'Ticket', 'Fare',\n",
       "       'Embarked'],\n",
       "      dtype='object')"
      ]
     },
     "execution_count": 23,
     "metadata": {},
     "output_type": "execute_result"
    }
   ],
   "source": [
    "df.columns"
   ]
  },
  {
   "cell_type": "code",
   "execution_count": 24,
   "id": "49f0517a",
   "metadata": {},
   "outputs": [
    {
     "data": {
      "text/plain": [
       "<AxesSubplot:xlabel='Fare'>"
      ]
     },
     "execution_count": 24,
     "metadata": {},
     "output_type": "execute_result"
    },
    {
     "data": {
      "image/png": "[encoded data removed]",
      "text/plain": [
       "<Figure size 432x288 with 1 Axes>"
      ]
     },
     "metadata": {
      "needs_background": "light"
     },
     "output_type": "display_data"
    }
   ],
   "source": [
    "sns.boxplot(df['Fare'])"
   ]
  },
  {
   "cell_type": "code",
   "execution_count": 25,
   "id": "85bc8019",
   "metadata": {},
   "outputs": [
    {
     "data": {
      "text/plain": [
       "<AxesSubplot:xlabel='Fare', ylabel='Density'>"
      ]
     },
     "execution_count": 25,
     "metadata": {},
     "output_type": "execute_result"
    },
    {
     "data": {
      "image/png": "[encoded data removed]",
      "text/plain": [
       "<Figure size 432x288 with 1 Axes>"
      ]
     },
     "metadata": {
      "needs_background": "light"
     },
     "output_type": "display_data"
    }
   ],
   "source": [
    "sns.distplot(df['Fare'], bins=40)"
   ]
  },
  {
   "cell_type": "markdown",
   "id": "5a10850c",
   "metadata": {},
   "source": [
    "Replacing values greater than 100 with median."
   ]
  },
  {
   "cell_type": "code",
   "execution_count": 26,
   "id": "02ec8c13",
   "metadata": {},
   "outputs": [],
   "source": [
    "df['Fare'] = np.where(df['Fare']>100, df['Fare'].median(), df['Fare'])"
   ]
  },
  {
   "cell_type": "code",
   "execution_count": 27,
   "id": "d1aea41c",
   "metadata": {},
   "outputs": [
    {
     "data": {
      "text/plain": [
       "<AxesSubplot:xlabel='Age'>"
      ]
     },
     "execution_count": 27,
     "metadata": {},
     "output_type": "execute_result"
    },
    {
     "data": {
      "image/png": "[encoded data removed]",
      "text/plain": [
       "<Figure size 432x288 with 1 Axes>"
      ]
     },
     "metadata": {
      "needs_background": "light"
     },
     "output_type": "display_data"
    }
   ],
   "source": [
    "sns.boxplot(df['Age'])"
   ]
  },
  {
   "cell_type": "markdown",
   "id": "f205e5a9",
   "metadata": {},
   "source": [
    "Keeping the values as age of people can be 60-80 years."
   ]
  },
  {
   "cell_type": "code",
   "execution_count": 28,
   "id": "2b564682",
   "metadata": {},
   "outputs": [
    {
     "data": {
      "text/plain": [
       "<AxesSubplot:>"
      ]
     },
     "execution_count": 28,
     "metadata": {},
     "output_type": "execute_result"
    },
    {
     "data": {
      "image/png": "[encoded data removed]",
      "text/plain": [
       "<Figure size 432x288 with 2 Axes>"
      ]
     },
     "metadata": {
      "needs_background": "light"
     },
     "output_type": "display_data"
    }
   ],
   "source": [
    "sns.heatmap(df.corr(), annot = True) "
   ]
  },
  {
   "cell_type": "code",
   "execution_count": 29,
   "id": "1dba3dd4",
   "metadata": {},
   "outputs": [
    {
     "data": {
      "text/plain": [
       "0.5102446555756495"
      ]
     },
     "execution_count": 29,
     "metadata": {},
     "output_type": "execute_result"
    }
   ],
   "source": [
    "df['Age'].skew()"
   ]
  },
  {
   "cell_type": "code",
   "execution_count": 30,
   "id": "8d223882",
   "metadata": {},
   "outputs": [
    {
     "data": {
      "text/plain": [
       "1.7682149194660524"
      ]
     },
     "execution_count": 30,
     "metadata": {},
     "output_type": "execute_result"
    }
   ],
   "source": [
    "df['Fare'].skew()"
   ]
  },
  {
   "cell_type": "code",
   "execution_count": 31,
   "id": "57ce9923",
   "metadata": {},
   "outputs": [],
   "source": [
    "df['Fare'] = np.sqrt(df['Fare'])"
   ]
  },
  {
   "cell_type": "code",
   "execution_count": 32,
   "id": "e16bdfe5",
   "metadata": {},
   "outputs": [
    {
     "data": {
      "text/plain": [
       "0.9797120923424475"
      ]
     },
     "execution_count": 32,
     "metadata": {},
     "output_type": "execute_result"
    }
   ],
   "source": [
    "df['Fare'].skew()"
   ]
  },
  {
   "cell_type": "code",
   "execution_count": 33,
   "id": "ace27f7d",
   "metadata": {},
   "outputs": [],
   "source": [
    "df['Fare_new'] = np.sqrt(df['Fare'])"
   ]
  },
  {
   "cell_type": "code",
   "execution_count": 34,
   "id": "66bb2946",
   "metadata": {},
   "outputs": [
    {
     "data": {
      "text/plain": [
       "-0.5302223058210567"
      ]
     },
     "execution_count": 34,
     "metadata": {},
     "output_type": "execute_result"
    }
   ],
   "source": [
    "df['Fare_new'].skew()"
   ]
  },
  {
   "cell_type": "markdown",
   "id": "bc676b81",
   "metadata": {},
   "source": [
    "Skewness is now removed."
   ]
  },
  {
   "cell_type": "code",
   "execution_count": 35,
   "id": "a8f1236f",
   "metadata": {},
   "outputs": [],
   "source": [
    "df.drop('Fare', axis = 1, inplace = True)"
   ]
  },
  {
   "cell_type": "code",
   "execution_count": 36,
   "id": "5554b337",
   "metadata": {},
   "outputs": [],
   "source": [
    "from sklearn.preprocessing import LabelEncoder"
   ]
  },
  {
   "cell_type": "code",
   "execution_count": 37,
   "id": "189688f2",
   "metadata": {},
   "outputs": [],
   "source": [
    "label_encoder = LabelEncoder()\n",
    "df['Sex'] = label_encoder.fit_transform(df['Sex'])"
   ]
  },
  {
   "cell_type": "code",
   "execution_count": 38,
   "id": "92611ef0",
   "metadata": {},
   "outputs": [],
   "source": [
    "df['Embarked'] = label_encoder.fit_transform(df['Embarked'])"
   ]
  },
  {
   "cell_type": "code",
   "execution_count": 39,
   "id": "2299aa0e",
   "metadata": {},
   "outputs": [
    {
     "data": {
      "text/plain": [
       "1    577\n",
       "0    314\n",
       "Name: Sex, dtype: int64"
      ]
     },
     "execution_count": 39,
     "metadata": {},
     "output_type": "execute_result"
    }
   ],
   "source": [
    "df['Sex'].value_counts()"
   ]
  },
  {
   "cell_type": "markdown",
   "id": "a8a157f2",
   "metadata": {},
   "source": [
    "There are 577 males and 314 females on the ship."
   ]
  },
  {
   "cell_type": "code",
   "execution_count": 40,
   "id": "a7995f9d",
   "metadata": {},
   "outputs": [
    {
     "data": {
      "text/plain": [
       "2    646\n",
       "0    168\n",
       "1     77\n",
       "Name: Embarked, dtype: int64"
      ]
     },
     "execution_count": 40,
     "metadata": {},
     "output_type": "execute_result"
    }
   ],
   "source": [
    "df['Embarked'].value_counts()"
   ]
  },
  {
   "cell_type": "code",
   "execution_count": 41,
   "id": "f7395900",
   "metadata": {},
   "outputs": [
    {
     "data": {
      "text/html": [
       "<div>\n",
       "<style scoped>\n",
       "    .dataframe tbody tr th:only-of-type {\n",
       "        vertical-align: middle;\n",
       "    }\n",
       "\n",
       "    .dataframe tbody tr th {\n",
       "        vertical-align: top;\n",
       "    }\n",
       "\n",
       "    .dataframe thead th {\n",
       "        text-align: right;\n",
       "    }\n",
       "</style>\n",
       "<table border=\"1\" class=\"dataframe\">\n",
       "  <thead>\n",
       "    <tr style=\"text-align: right;\">\n",
       "      <th></th>\n",
       "      <th>Survived</th>\n",
       "      <th>Pclass</th>\n",
       "      <th>Sex</th>\n",
       "      <th>Age</th>\n",
       "      <th>SibSp</th>\n",
       "      <th>Parch</th>\n",
       "      <th>Ticket</th>\n",
       "      <th>Embarked</th>\n",
       "      <th>Fare_new</th>\n",
       "    </tr>\n",
       "  </thead>\n",
       "  <tbody>\n",
       "    <tr>\n",
       "      <th>0</th>\n",
       "      <td>0</td>\n",
       "      <td>3</td>\n",
       "      <td>1</td>\n",
       "      <td>22.0</td>\n",
       "      <td>1</td>\n",
       "      <td>0</td>\n",
       "      <td>A/5 21171</td>\n",
       "      <td>2</td>\n",
       "      <td>1.640909</td>\n",
       "    </tr>\n",
       "    <tr>\n",
       "      <th>1</th>\n",
       "      <td>1</td>\n",
       "      <td>1</td>\n",
       "      <td>0</td>\n",
       "      <td>38.0</td>\n",
       "      <td>1</td>\n",
       "      <td>0</td>\n",
       "      <td>PC 17599</td>\n",
       "      <td>0</td>\n",
       "      <td>2.905674</td>\n",
       "    </tr>\n",
       "    <tr>\n",
       "      <th>2</th>\n",
       "      <td>1</td>\n",
       "      <td>3</td>\n",
       "      <td>0</td>\n",
       "      <td>26.0</td>\n",
       "      <td>0</td>\n",
       "      <td>0</td>\n",
       "      <td>STON/O2. 3101282</td>\n",
       "      <td>2</td>\n",
       "      <td>1.677837</td>\n",
       "    </tr>\n",
       "    <tr>\n",
       "      <th>3</th>\n",
       "      <td>1</td>\n",
       "      <td>1</td>\n",
       "      <td>0</td>\n",
       "      <td>35.0</td>\n",
       "      <td>1</td>\n",
       "      <td>0</td>\n",
       "      <td>113803</td>\n",
       "      <td>2</td>\n",
       "      <td>2.699440</td>\n",
       "    </tr>\n",
       "    <tr>\n",
       "      <th>4</th>\n",
       "      <td>0</td>\n",
       "      <td>3</td>\n",
       "      <td>1</td>\n",
       "      <td>35.0</td>\n",
       "      <td>0</td>\n",
       "      <td>0</td>\n",
       "      <td>373450</td>\n",
       "      <td>2</td>\n",
       "      <td>1.684414</td>\n",
       "    </tr>\n",
       "  </tbody>\n",
       "</table>\n",
       "</div>"
      ],
      "text/plain": [
       "   Survived  Pclass  Sex   Age  SibSp  Parch            Ticket  Embarked  \\\n",
       "0         0       3    1  22.0      1      0         A/5 21171         2   \n",
       "1         1       1    0  38.0      1      0          PC 17599         0   \n",
       "2         1       3    0  26.0      0      0  STON/O2. 3101282         2   \n",
       "3         1       1    0  35.0      1      0            113803         2   \n",
       "4         0       3    1  35.0      0      0            373450         2   \n",
       "\n",
       "   Fare_new  \n",
       "0  1.640909  \n",
       "1  2.905674  \n",
       "2  1.677837  \n",
       "3  2.699440  \n",
       "4  1.684414  "
      ]
     },
     "execution_count": 41,
     "metadata": {},
     "output_type": "execute_result"
    }
   ],
   "source": [
    "df.head()"
   ]
  },
  {
   "cell_type": "markdown",
   "id": "7b2177c2",
   "metadata": {},
   "source": [
    "Dropping ticket column as it has all unique values."
   ]
  },
  {
   "cell_type": "code",
   "execution_count": 42,
   "id": "1f7ce557",
   "metadata": {},
   "outputs": [],
   "source": [
    "df.drop('Ticket', axis = 1, inplace = True)"
   ]
  },
  {
   "cell_type": "code",
   "execution_count": 43,
   "id": "765f526f",
   "metadata": {},
   "outputs": [],
   "source": [
    "from sklearn.preprocessing import StandardScaler\n",
    "sc = StandardScaler()"
   ]
  },
  {
   "cell_type": "code",
   "execution_count": 44,
   "id": "cf6f274e",
   "metadata": {},
   "outputs": [],
   "source": [
    "df_new = pd.DataFrame(sc.fit_transform(df), columns = df.columns)"
   ]
  },
  {
   "cell_type": "code",
   "execution_count": 45,
   "id": "2351be94",
   "metadata": {},
   "outputs": [
    {
     "data": {
      "text/html": [
       "<div>\n",
       "<style scoped>\n",
       "    .dataframe tbody tr th:only-of-type {\n",
       "        vertical-align: middle;\n",
       "    }\n",
       "\n",
       "    .dataframe tbody tr th {\n",
       "        vertical-align: top;\n",
       "    }\n",
       "\n",
       "    .dataframe thead th {\n",
       "        text-align: right;\n",
       "    }\n",
       "</style>\n",
       "<table border=\"1\" class=\"dataframe\">\n",
       "  <thead>\n",
       "    <tr style=\"text-align: right;\">\n",
       "      <th></th>\n",
       "      <th>Survived</th>\n",
       "      <th>Pclass</th>\n",
       "      <th>Sex</th>\n",
       "      <th>Age</th>\n",
       "      <th>SibSp</th>\n",
       "      <th>Parch</th>\n",
       "      <th>Embarked</th>\n",
       "      <th>Fare_new</th>\n",
       "    </tr>\n",
       "  </thead>\n",
       "  <tbody>\n",
       "    <tr>\n",
       "      <th>0</th>\n",
       "      <td>-0.789272</td>\n",
       "      <td>0.827377</td>\n",
       "      <td>0.737695</td>\n",
       "      <td>-0.565736</td>\n",
       "      <td>0.432793</td>\n",
       "      <td>-0.473674</td>\n",
       "      <td>0.585954</td>\n",
       "      <td>-0.773636</td>\n",
       "    </tr>\n",
       "    <tr>\n",
       "      <th>1</th>\n",
       "      <td>1.266990</td>\n",
       "      <td>-1.566107</td>\n",
       "      <td>-1.355574</td>\n",
       "      <td>0.663861</td>\n",
       "      <td>0.432793</td>\n",
       "      <td>-0.473674</td>\n",
       "      <td>-1.942303</td>\n",
       "      <td>1.855406</td>\n",
       "    </tr>\n",
       "    <tr>\n",
       "      <th>2</th>\n",
       "      <td>1.266990</td>\n",
       "      <td>0.827377</td>\n",
       "      <td>-1.355574</td>\n",
       "      <td>-0.258337</td>\n",
       "      <td>-0.474545</td>\n",
       "      <td>-0.473674</td>\n",
       "      <td>0.585954</td>\n",
       "      <td>-0.696874</td>\n",
       "    </tr>\n",
       "    <tr>\n",
       "      <th>3</th>\n",
       "      <td>1.266990</td>\n",
       "      <td>-1.566107</td>\n",
       "      <td>-1.355574</td>\n",
       "      <td>0.433312</td>\n",
       "      <td>0.432793</td>\n",
       "      <td>-0.473674</td>\n",
       "      <td>0.585954</td>\n",
       "      <td>1.426710</td>\n",
       "    </tr>\n",
       "    <tr>\n",
       "      <th>4</th>\n",
       "      <td>-0.789272</td>\n",
       "      <td>0.827377</td>\n",
       "      <td>0.737695</td>\n",
       "      <td>0.433312</td>\n",
       "      <td>-0.474545</td>\n",
       "      <td>-0.473674</td>\n",
       "      <td>0.585954</td>\n",
       "      <td>-0.683202</td>\n",
       "    </tr>\n",
       "  </tbody>\n",
       "</table>\n",
       "</div>"
      ],
      "text/plain": [
       "   Survived    Pclass       Sex       Age     SibSp     Parch  Embarked  \\\n",
       "0 -0.789272  0.827377  0.737695 -0.565736  0.432793 -0.473674  0.585954   \n",
       "1  1.266990 -1.566107 -1.355574  0.663861  0.432793 -0.473674 -1.942303   \n",
       "2  1.266990  0.827377 -1.355574 -0.258337 -0.474545 -0.473674  0.585954   \n",
       "3  1.266990 -1.566107 -1.355574  0.433312  0.432793 -0.473674  0.585954   \n",
       "4 -0.789272  0.827377  0.737695  0.433312 -0.474545 -0.473674  0.585954   \n",
       "\n",
       "   Fare_new  \n",
       "0 -0.773636  \n",
       "1  1.855406  \n",
       "2 -0.696874  \n",
       "3  1.426710  \n",
       "4 -0.683202  "
      ]
     },
     "execution_count": 45,
     "metadata": {},
     "output_type": "execute_result"
    }
   ],
   "source": [
    "df_new.head()"
   ]
  },
  {
   "cell_type": "markdown",
   "id": "2be83a01",
   "metadata": {},
   "source": [
    "Seperating target and indepedent variable."
   ]
  },
  {
   "cell_type": "code",
   "execution_count": 46,
   "id": "defcd6d8",
   "metadata": {},
   "outputs": [],
   "source": [
    "x = df_new.drop('Survived', axis = 1)"
   ]
  },
  {
   "cell_type": "code",
   "execution_count": 47,
   "id": "a98e3109",
   "metadata": {},
   "outputs": [],
   "source": [
    "y = df['Survived']"
   ]
  },
  {
   "cell_type": "code",
   "execution_count": 48,
   "id": "ebe13e6e",
   "metadata": {},
   "outputs": [],
   "source": [
    "from sklearn.model_selection import train_test_split\n",
    "from sklearn.metrics import accuracy_score,classification_report,confusion_matrix\n",
    "from sklearn.linear_model import LogisticRegression"
   ]
  },
  {
   "cell_type": "code",
   "execution_count": 49,
   "id": "2e0b7fb0",
   "metadata": {},
   "outputs": [
    {
     "name": "stdout",
     "output_type": "stream",
     "text": [
      "random state 57\n",
      "test accuracy 0.8\n",
      "train accuracy 0.8003355704697986\n",
      "random state 102\n",
      "test accuracy 0.7966101694915254\n",
      "train accuracy 0.7969798657718121\n",
      "random state 119\n",
      "test accuracy 0.7966101694915254\n",
      "train accuracy 0.7969798657718121\n",
      "random state 263\n",
      "test accuracy 0.7966101694915254\n",
      "train accuracy 0.7969798657718121\n",
      "random state 294\n",
      "test accuracy 0.7966101694915254\n",
      "train accuracy 0.7969798657718121\n",
      "random state 338\n",
      "test accuracy 0.7966101694915254\n",
      "train accuracy 0.7969798657718121\n",
      "random state 360\n",
      "test accuracy 0.7966101694915254\n",
      "train accuracy 0.7969798657718121\n",
      "random state 420\n",
      "test accuracy 0.8\n",
      "train accuracy 0.8003355704697986\n",
      "random state 484\n",
      "test accuracy 0.7966101694915254\n",
      "train accuracy 0.7969798657718121\n",
      "random state 584\n",
      "test accuracy 0.7966101694915254\n",
      "train accuracy 0.7969798657718121\n",
      "random state 759\n",
      "test accuracy 0.7898305084745763\n",
      "train accuracy 0.790268456375839\n",
      "random state 782\n",
      "test accuracy 0.8\n",
      "train accuracy 0.8003355704697986\n",
      "random state 817\n",
      "test accuracy 0.8\n",
      "train accuracy 0.8003355704697986\n"
     ]
    }
   ],
   "source": [
    "for i in range(1,1000):\n",
    "    x_train, x_test, y_train, y_test = train_test_split(x, y, test_size = 0.33, random_state = i)\n",
    "    lr =  LogisticRegression()\n",
    "    lr.fit(x_train, y_train)\n",
    "    pred_test = lr.predict(x_test)\n",
    "    pred_train = lr.predict(x_train)\n",
    "    if(round(accuracy_score(pred_test, y_test) * 100, 1) == round(accuracy_score(pred_train, y_train) * 100, 1)):\n",
    "        print('random state', i)\n",
    "        print('test accuracy', accuracy_score(pred_test, y_test))\n",
    "        print('train accuracy', accuracy_score(pred_train, y_train))"
   ]
  },
  {
   "cell_type": "markdown",
   "id": "afc3abb8",
   "metadata": {},
   "source": [
    "Taking random state as 57 for splitting the data."
   ]
  },
  {
   "cell_type": "code",
   "execution_count": 50,
   "id": "9d8d19e1",
   "metadata": {},
   "outputs": [],
   "source": [
    "x_train, x_test, y_train, y_test = train_test_split(x, y, test_size = 0.33, random_state = 57)"
   ]
  },
  {
   "cell_type": "code",
   "execution_count": 51,
   "id": "1445c0f8",
   "metadata": {},
   "outputs": [],
   "source": [
    "from sklearn.tree import DecisionTreeClassifier\n",
    "from sklearn.svm import SVC\n",
    "from sklearn.neighbors import KNeighborsClassifier"
   ]
  },
  {
   "cell_type": "code",
   "execution_count": 52,
   "id": "176767a1",
   "metadata": {},
   "outputs": [],
   "source": [
    "algo = [DecisionTreeClassifier, SVC, KNeighborsClassifier, LogisticRegression]"
   ]
  },
  {
   "cell_type": "code",
   "execution_count": 53,
   "id": "7ee3fd0a",
   "metadata": {},
   "outputs": [
    {
     "name": "stdout",
     "output_type": "stream",
     "text": [
      "<class 'sklearn.tree._classes.DecisionTreeClassifier'> accuracy_score 0.8135593220338984\n",
      "confusion_matrix [[151  30]\n",
      " [ 25  89]]\n",
      "classification_report               precision    recall  f1-score   support\n",
      "\n",
      "           0       0.86      0.83      0.85       181\n",
      "           1       0.75      0.78      0.76       114\n",
      "\n",
      "    accuracy                           0.81       295\n",
      "   macro avg       0.80      0.81      0.80       295\n",
      "weighted avg       0.82      0.81      0.81       295\n",
      "\n",
      "-------------------------------------------------------------\n",
      "<class 'sklearn.svm._classes.SVC'> accuracy_score 0.8203389830508474\n",
      "confusion_matrix [[163  18]\n",
      " [ 35  79]]\n",
      "classification_report               precision    recall  f1-score   support\n",
      "\n",
      "           0       0.82      0.90      0.86       181\n",
      "           1       0.81      0.69      0.75       114\n",
      "\n",
      "    accuracy                           0.82       295\n",
      "   macro avg       0.82      0.80      0.80       295\n",
      "weighted avg       0.82      0.82      0.82       295\n",
      "\n",
      "-------------------------------------------------------------\n",
      "<class 'sklearn.neighbors._classification.KNeighborsClassifier'> accuracy_score 0.8135593220338984\n",
      "confusion_matrix [[158  23]\n",
      " [ 32  82]]\n",
      "classification_report               precision    recall  f1-score   support\n",
      "\n",
      "           0       0.83      0.87      0.85       181\n",
      "           1       0.78      0.72      0.75       114\n",
      "\n",
      "    accuracy                           0.81       295\n",
      "   macro avg       0.81      0.80      0.80       295\n",
      "weighted avg       0.81      0.81      0.81       295\n",
      "\n",
      "-------------------------------------------------------------\n",
      "<class 'sklearn.linear_model._logistic.LogisticRegression'> accuracy_score 0.8\n",
      "confusion_matrix [[158  23]\n",
      " [ 36  78]]\n",
      "classification_report               precision    recall  f1-score   support\n",
      "\n",
      "           0       0.81      0.87      0.84       181\n",
      "           1       0.77      0.68      0.73       114\n",
      "\n",
      "    accuracy                           0.80       295\n",
      "   macro avg       0.79      0.78      0.78       295\n",
      "weighted avg       0.80      0.80      0.80       295\n",
      "\n",
      "-------------------------------------------------------------\n"
     ]
    }
   ],
   "source": [
    "for i in algo:\n",
    "    obj = i()\n",
    "    obj.fit(x_train, y_train)\n",
    "    pred = obj.predict(x_test)\n",
    "    print(i, 'accuracy_score', accuracy_score(y_test, pred))\n",
    "    print('confusion_matrix', confusion_matrix(y_test, pred))\n",
    "    print('classification_report', classification_report(y_test, pred))\n",
    "    print('-------------------------------------------------------------')"
   ]
  },
  {
   "cell_type": "markdown",
   "id": "dac51569",
   "metadata": {},
   "source": [
    "Applying Cross Validation"
   ]
  },
  {
   "cell_type": "code",
   "execution_count": 54,
   "id": "75035feb",
   "metadata": {},
   "outputs": [],
   "source": [
    "from sklearn.model_selection import cross_val_score"
   ]
  },
  {
   "cell_type": "code",
   "execution_count": 55,
   "id": "9231a554",
   "metadata": {},
   "outputs": [],
   "source": [
    "svm = SVC()"
   ]
  },
  {
   "cell_type": "code",
   "execution_count": 56,
   "id": "3d8dbf86",
   "metadata": {},
   "outputs": [
    {
     "name": "stdout",
     "output_type": "stream",
     "text": [
      "accuracy_score 0.8\n",
      "cv.  2\n",
      "0.7845165516198922\n",
      "-------\n",
      "accuracy_score 0.8\n",
      "cv.  3\n",
      "0.7845117845117845\n",
      "-------\n",
      "accuracy_score 0.8\n",
      "cv.  4\n",
      "0.7845210681533552\n",
      "-------\n",
      "accuracy_score 0.8\n",
      "cv.  5\n",
      "0.7867679367271357\n",
      "-------\n",
      "accuracy_score 0.8\n",
      "cv.  6\n",
      "0.7788938267126185\n",
      "-------\n",
      "accuracy_score 0.8\n",
      "cv.  7\n",
      "0.7822781917885264\n",
      "-------\n",
      "accuracy_score 0.8\n",
      "cv.  8\n",
      "0.7878659909909911\n",
      "-------\n",
      "accuracy_score 0.8\n",
      "cv.  9\n",
      "0.7811447811447811\n",
      "-------\n",
      "accuracy_score 0.8\n",
      "cv.  10\n",
      "0.7878776529338328\n",
      "-------\n",
      "accuracy_score 0.8\n",
      "cv.  11\n",
      "0.78675645342312\n",
      "-------\n",
      "accuracy_score 0.8\n",
      "cv.  12\n",
      "0.7901201201201201\n",
      "-------\n",
      "accuracy_score 0.8\n",
      "cv.  13\n",
      "0.7901009902288675\n",
      "-------\n",
      "accuracy_score 0.8\n",
      "cv.  14\n",
      "0.7845273526077098\n",
      "-------\n",
      "accuracy_score 0.8\n",
      "cv.  15\n",
      "0.7867419962335217\n",
      "-------\n",
      "accuracy_score 0.8\n",
      "cv.  16\n",
      "0.7879058441558442\n",
      "-------\n",
      "accuracy_score 0.8\n",
      "cv.  17\n",
      "0.7900836677196277\n",
      "-------\n",
      "accuracy_score 0.8\n",
      "cv.  18\n",
      "0.7889342403628118\n",
      "-------\n",
      "accuracy_score 0.8\n",
      "cv.  19\n",
      "0.7890598373825405\n",
      "-------\n",
      "accuracy_score 0.8\n",
      "cv.  20\n",
      "0.7878535353535353\n",
      "-------\n"
     ]
    }
   ],
   "source": [
    "for i in range(2,21):\n",
    "    svm.fit(x_train, y_train)\n",
    "    pred = obj.predict(x_test)\n",
    "    print('accuracy_score', accuracy_score(y_test, pred))\n",
    "    cross_score = cross_val_score(lr, x, y, cv = i)\n",
    "    print('cv. ', i)\n",
    "    print(cross_score.mean())\n",
    "    print('-------')"
   ]
  },
  {
   "cell_type": "markdown",
   "id": "815ec392",
   "metadata": {},
   "source": [
    "Accuracy is same with very less cv mean difference."
   ]
  },
  {
   "cell_type": "markdown",
   "id": "c8d48492",
   "metadata": {},
   "source": [
    "Taking 6 as the best cv fold."
   ]
  },
  {
   "cell_type": "code",
   "execution_count": 57,
   "id": "59fee4e2",
   "metadata": {},
   "outputs": [
    {
     "name": "stdout",
     "output_type": "stream",
     "text": [
      "cross score 0.767685470705605\n",
      "<class 'sklearn.tree._classes.DecisionTreeClassifier'> accuracy_score 0.8067796610169492\n",
      "confusion_matrix [[149  32]\n",
      " [ 25  89]]\n",
      "classification_report               precision    recall  f1-score   support\n",
      "\n",
      "           0       0.86      0.82      0.84       181\n",
      "           1       0.74      0.78      0.76       114\n",
      "\n",
      "    accuracy                           0.81       295\n",
      "   macro avg       0.80      0.80      0.80       295\n",
      "weighted avg       0.81      0.81      0.81       295\n",
      "\n",
      "-------------------------------------------------------------\n",
      "cross score 0.8193134409577363\n",
      "<class 'sklearn.svm._classes.SVC'> accuracy_score 0.8203389830508474\n",
      "confusion_matrix [[163  18]\n",
      " [ 35  79]]\n",
      "classification_report               precision    recall  f1-score   support\n",
      "\n",
      "           0       0.82      0.90      0.86       181\n",
      "           1       0.81      0.69      0.75       114\n",
      "\n",
      "    accuracy                           0.82       295\n",
      "   macro avg       0.82      0.80      0.80       295\n",
      "weighted avg       0.82      0.82      0.82       295\n",
      "\n",
      "-------------------------------------------------------------\n",
      "cross score 0.8080975270572587\n",
      "<class 'sklearn.neighbors._classification.KNeighborsClassifier'> accuracy_score 0.8135593220338984\n",
      "confusion_matrix [[158  23]\n",
      " [ 32  82]]\n",
      "classification_report               precision    recall  f1-score   support\n",
      "\n",
      "           0       0.83      0.87      0.85       181\n",
      "           1       0.78      0.72      0.75       114\n",
      "\n",
      "    accuracy                           0.81       295\n",
      "   macro avg       0.81      0.80      0.80       295\n",
      "weighted avg       0.81      0.81      0.81       295\n",
      "\n",
      "-------------------------------------------------------------\n",
      "cross score 0.7788938267126185\n",
      "<class 'sklearn.linear_model._logistic.LogisticRegression'> accuracy_score 0.8\n",
      "confusion_matrix [[158  23]\n",
      " [ 36  78]]\n",
      "classification_report               precision    recall  f1-score   support\n",
      "\n",
      "           0       0.81      0.87      0.84       181\n",
      "           1       0.77      0.68      0.73       114\n",
      "\n",
      "    accuracy                           0.80       295\n",
      "   macro avg       0.79      0.78      0.78       295\n",
      "weighted avg       0.80      0.80      0.80       295\n",
      "\n",
      "-------------------------------------------------------------\n"
     ]
    }
   ],
   "source": [
    "for i in algo:\n",
    "    obj = i()\n",
    "    obj.fit(x_train, y_train)\n",
    "    pred = obj.predict(x_test)\n",
    "    cross_score = cross_val_score(obj, x, y, cv = 6)\n",
    "    print('cross score', cross_score.mean())\n",
    "    print(i, 'accuracy_score', accuracy_score(y_test, pred))\n",
    "    print('confusion_matrix', confusion_matrix(y_test, pred))\n",
    "    print('classification_report', classification_report(y_test, pred))\n",
    "    print('-------------------------------------------------------------')"
   ]
  },
  {
   "cell_type": "markdown",
   "id": "c9a5730b",
   "metadata": {},
   "source": [
    "SVC is giving best results."
   ]
  },
  {
   "cell_type": "markdown",
   "id": "9e65d71a",
   "metadata": {},
   "source": [
    "Applying GridSearchCV....."
   ]
  },
  {
   "cell_type": "code",
   "execution_count": 58,
   "id": "8ff1efc3",
   "metadata": {},
   "outputs": [],
   "source": [
    "param_grid = {'C': [0.1, 1, 10, 100, 1000],   \n",
    "              'kernel': ['rbf', 'poly', 'linear']}"
   ]
  },
  {
   "cell_type": "code",
   "execution_count": 59,
   "id": "65b9a691",
   "metadata": {},
   "outputs": [],
   "source": [
    "from sklearn.model_selection import GridSearchCV\n",
    "grid = GridSearchCV(svm, param_grid, refit = True, scoring='accuracy') "
   ]
  },
  {
   "cell_type": "code",
   "execution_count": 60,
   "id": "651d823c",
   "metadata": {},
   "outputs": [
    {
     "data": {
      "text/plain": [
       "GridSearchCV(estimator=SVC(),\n",
       "             param_grid={'C': [0.1, 1, 10, 100, 1000],\n",
       "                         'kernel': ['rbf', 'poly', 'linear']},\n",
       "             scoring='accuracy')"
      ]
     },
     "execution_count": 60,
     "metadata": {},
     "output_type": "execute_result"
    }
   ],
   "source": [
    "grid.fit(x, y)"
   ]
  },
  {
   "cell_type": "code",
   "execution_count": 61,
   "id": "31a4cace",
   "metadata": {},
   "outputs": [
    {
     "name": "stdout",
     "output_type": "stream",
     "text": [
      "{'C': 1, 'kernel': 'rbf'}\n",
      "0.8249074132195091\n"
     ]
    }
   ],
   "source": [
    "best_para = grid.best_params_\n",
    "print(best_para)\n",
    "best_res = grid.best_score_\n",
    "print(best_res)"
   ]
  },
  {
   "cell_type": "code",
   "execution_count": 62,
   "id": "681c12c1",
   "metadata": {},
   "outputs": [],
   "source": [
    "svc_obj = SVC(C=1, kernel = 'rbf')\n",
    "svc_obj.fit(x_train, y_train)\n",
    "pred = svc_obj.predict(x_test)"
   ]
  },
  {
   "cell_type": "code",
   "execution_count": 63,
   "id": "21098634",
   "metadata": {},
   "outputs": [
    {
     "name": "stdout",
     "output_type": "stream",
     "text": [
      "accuracy_score 0.8203389830508474\n",
      "confusion_matrix [[163  18]\n",
      " [ 35  79]]\n",
      "classification_report               precision    recall  f1-score   support\n",
      "\n",
      "           0       0.82      0.90      0.86       181\n",
      "           1       0.81      0.69      0.75       114\n",
      "\n",
      "    accuracy                           0.82       295\n",
      "   macro avg       0.82      0.80      0.80       295\n",
      "weighted avg       0.82      0.82      0.82       295\n",
      "\n"
     ]
    }
   ],
   "source": [
    "print('accuracy_score', accuracy_score(y_test, pred))\n",
    "print('confusion_matrix', confusion_matrix(y_test, pred))\n",
    "print('classification_report', classification_report(y_test, pred))"
   ]
  },
  {
   "cell_type": "markdown",
   "id": "7649a7ad",
   "metadata": {},
   "source": [
    "Saving best Model"
   ]
  },
  {
   "cell_type": "code",
   "execution_count": 64,
   "id": "eb6be557",
   "metadata": {},
   "outputs": [],
   "source": [
    "import pickle\n",
    "titanic= 'pickl_t.pkl'\n",
    "pickle.dump(svc_obj, open(titanic, 'wb'))"
   ]
  },
  {
   "cell_type": "markdown",
   "id": "484b752e",
   "metadata": {},
   "source": [
    "Conclusion...."
   ]
  },
  {
   "cell_type": "code",
   "execution_count": 65,
   "id": "dd6816df",
   "metadata": {},
   "outputs": [
    {
     "data": {
      "text/html": [
       "<div>\n",
       "<style scoped>\n",
       "    .dataframe tbody tr th:only-of-type {\n",
       "        vertical-align: middle;\n",
       "    }\n",
       "\n",
       "    .dataframe tbody tr th {\n",
       "        vertical-align: top;\n",
       "    }\n",
       "\n",
       "    .dataframe thead th {\n",
       "        text-align: right;\n",
       "    }\n",
       "</style>\n",
       "<table border=\"1\" class=\"dataframe\">\n",
       "  <thead>\n",
       "    <tr style=\"text-align: right;\">\n",
       "      <th></th>\n",
       "      <th>Original</th>\n",
       "      <th>Predicted</th>\n",
       "    </tr>\n",
       "  </thead>\n",
       "  <tbody>\n",
       "    <tr>\n",
       "      <th>0</th>\n",
       "      <td>0</td>\n",
       "      <td>0</td>\n",
       "    </tr>\n",
       "    <tr>\n",
       "      <th>1</th>\n",
       "      <td>0</td>\n",
       "      <td>0</td>\n",
       "    </tr>\n",
       "    <tr>\n",
       "      <th>2</th>\n",
       "      <td>0</td>\n",
       "      <td>0</td>\n",
       "    </tr>\n",
       "    <tr>\n",
       "      <th>3</th>\n",
       "      <td>0</td>\n",
       "      <td>0</td>\n",
       "    </tr>\n",
       "    <tr>\n",
       "      <th>4</th>\n",
       "      <td>1</td>\n",
       "      <td>1</td>\n",
       "    </tr>\n",
       "    <tr>\n",
       "      <th>...</th>\n",
       "      <td>...</td>\n",
       "      <td>...</td>\n",
       "    </tr>\n",
       "    <tr>\n",
       "      <th>290</th>\n",
       "      <td>1</td>\n",
       "      <td>1</td>\n",
       "    </tr>\n",
       "    <tr>\n",
       "      <th>291</th>\n",
       "      <td>0</td>\n",
       "      <td>0</td>\n",
       "    </tr>\n",
       "    <tr>\n",
       "      <th>292</th>\n",
       "      <td>0</td>\n",
       "      <td>0</td>\n",
       "    </tr>\n",
       "    <tr>\n",
       "      <th>293</th>\n",
       "      <td>0</td>\n",
       "      <td>0</td>\n",
       "    </tr>\n",
       "    <tr>\n",
       "      <th>294</th>\n",
       "      <td>0</td>\n",
       "      <td>0</td>\n",
       "    </tr>\n",
       "  </tbody>\n",
       "</table>\n",
       "<p>295 rows × 2 columns</p>\n",
       "</div>"
      ],
      "text/plain": [
       "     Original  Predicted\n",
       "0           0          0\n",
       "1           0          0\n",
       "2           0          0\n",
       "3           0          0\n",
       "4           1          1\n",
       "..        ...        ...\n",
       "290         1          1\n",
       "291         0          0\n",
       "292         0          0\n",
       "293         0          0\n",
       "294         0          0\n",
       "\n",
       "[295 rows x 2 columns]"
      ]
     },
     "execution_count": 65,
     "metadata": {},
     "output_type": "execute_result"
    }
   ],
   "source": [
    "original_res = np.array(y_test)\n",
    "pred_res = np.array(svc_obj.predict(x_test))\n",
    "df_comparison = pd.DataFrame({'Original':pred_res, 'Predicted':pred_res})\n",
    "df_comparison"
   ]
  }
 ],
 "metadata": {
  "kernelspec": {
   "display_name": "Python 3",
   "language": "python",
   "name": "python3"
  },
  "language_info": {
   "codemirror_mode": {
    "name": "ipython",
    "version": 3
   },
   "file_extension": ".py",
   "mimetype": "text/x-python",
   "name": "python",
   "nbconvert_exporter": "python",
   "pygments_lexer": "ipython3",
   "version": "3.8.8"
  }
 },
 "nbformat": 4,
 "nbformat_minor": 5
}
